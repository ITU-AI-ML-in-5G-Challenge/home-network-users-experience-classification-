{
  "cells": [
    {
      "cell_type": "markdown",
      "source": [
        "The aim of this project is to make a model that Based on the data of eight indicators of a set of users given in the data source, to classify each user in the dataset as a UBE(users with bad experience) or a UGE(users with good experience) according to the provided 8 indicators with ML/DL methods"
      ],
      "metadata": {
        "id": "zv5JRcIhsrWH"
      }
    },
    {
      "cell_type": "markdown",
      "source": [
        "# PREPOCESSING"
      ],
      "metadata": {
        "id": "ZIG6Dctis8TX"
      }
    },
    {
      "cell_type": "code",
      "execution_count": 1,
      "metadata": {
        "id": "05j0xx9K1jdJ",
        "colab": {
          "base_uri": "https://localhost:8080/"
        },
        "outputId": "4ba42919-1e83-4dd6-c0c5-eee7fd91086f"
      },
      "outputs": [
        {
          "output_type": "stream",
          "name": "stdout",
          "text": [
            "libraries loaded ... !\n"
          ]
        }
      ],
      "source": [
        "import numpy as np\n",
        "import matplotlib.pyplot as plt\n",
        "import pandas as pd\n",
        "\n",
        "import glob \n",
        "\n",
        "import datetime\n",
        "from matplotlib import pyplot\n",
        "import matplotlib.pyplot as plt\n",
        "%matplotlib inline\n",
        "import seaborn as sns\n",
        "\n",
        "from sklearn.impute import SimpleImputer\n",
        "from sklearn.preprocessing import LabelEncoder, StandardScaler , MinMaxScaler\n",
        "from sklearn.compose import ColumnTransformer\n",
        "from sklearn.preprocessing import OneHotEncoder\n",
        "\n",
        "from sklearn.linear_model import LogisticRegression\n",
        "from sklearn.linear_model import LinearRegression\n",
        "from xgboost import XGBClassifier\n",
        "\n",
        "from sklearn.model_selection import train_test_split\n",
        "\n",
        "from sklearn.metrics import classification_report\n",
        "from sklearn.model_selection import cross_val_score\n",
        "from sklearn.metrics import roc_auc_score\n",
        "from sklearn.metrics import plot_roc_curve\n",
        "from sklearn.metrics import f1_score\n",
        "from sklearn.metrics import accuracy_score\n",
        "from sklearn.metrics import plot_confusion_matrix\n",
        "print(\"libraries loaded ... !\")"
      ]
    },
    {
      "cell_type": "code",
      "execution_count": 2,
      "metadata": {
        "id": "1DR_hk2z2gBc",
        "colab": {
          "base_uri": "https://localhost:8080/"
        },
        "outputId": "71c9db48-123d-403c-c5ec-4a8ab07963ca"
      },
      "outputs": [
        {
          "output_type": "stream",
          "name": "stdout",
          "text": [
            "Drive already mounted at /content/drive; to attempt to forcibly remount, call drive.mount(\"/content/drive\", force_remount=True).\n"
          ]
        }
      ],
      "source": [
        "#Mounting Google drive\n",
        "from google.colab import drive\n",
        "drive.mount('/content/drive')"
      ]
    },
    {
      "cell_type": "code",
      "execution_count": 3,
      "metadata": {
        "colab": {
          "base_uri": "https://localhost:8080/"
        },
        "id": "JGEOBZNg2ytG",
        "outputId": "d54cb1c6-bc72-48ba-e7cd-3d0005542b81"
      },
      "outputs": [
        {
          "output_type": "stream",
          "name": "stdout",
          "text": [
            "function for loading data created ... !\n"
          ]
        }
      ],
      "source": [
        "#function for merging csv files into 1 csv file\n",
        "def collectdata(path,code):\n",
        "    all_files = glob.glob(path + \"/*.csv\")\n",
        "    li = []\n",
        "    for filename in all_files:\n",
        "        df = pd.read_csv(filename, index_col=None, header=0)\n",
        "        df[\"user\"] = str(filename)\n",
        "        li.append(df)\n",
        "        \n",
        "    df = pd.concat(li, axis=0, ignore_index=True)\n",
        "    if not \"pred\" in df.columns:\n",
        "        df[\"pred\"] = str(code)\n",
        "    \n",
        "    return df\n",
        "\n",
        "#function for merging UBE and UGE into 1 csv & first feature selection by dropping irrelevant attributes\n",
        "def mergedata(pathA,pathB):\n",
        "    d0 = collectdata(pathA,\"UBE\") #UBE is 0\n",
        "    d1 = collectdata(pathB,\"UGE\") #UGE is 1\n",
        "    df = pd.concat([d0,d1])\n",
        "\n",
        "    df.dropna(inplace=True)\n",
        "\n",
        "    return df\n",
        "\n",
        "#google drive links to datasets\n",
        "path1 = \"/content/drive/MyDrive/datatset/trainset/UBE\" \n",
        "path2 = \"/content/drive/MyDrive/datatset/trainset/UGE\" \n",
        "path3 = \"/content/drive/MyDrive/datatset/testset/UBE\"\n",
        "path4 = \"/content/drive/MyDrive/datatset/testset/UGE\"\n",
        "path5 = \"/content/drive/MyDrive/datatset/validationset/UBE\"\n",
        "path6 = \"/content/drive/MyDrive/datatset/validationset/UGE\"\n",
        "\n",
        "print(\"function for loading data created ... !\")"
      ]
    },
    {
      "cell_type": "code",
      "execution_count": 4,
      "metadata": {
        "colab": {
          "base_uri": "https://localhost:8080/"
        },
        "id": "9_PXMhI62-Xj",
        "outputId": "c7a4922e-0d18-4ddb-9fdd-ca54e9dda8fe"
      },
      "outputs": [
        {
          "output_type": "stream",
          "name": "stdout",
          "text": [
            "train, test and validation dataframes set!\n"
          ]
        }
      ],
      "source": [
        "train = mergedata(path1,path2)             \n",
        "test =  mergedata(path3,path4)       \n",
        "validation =  mergedata(path5,path6) \n",
        "print(\"train, test and validation dataframes set!\")"
      ]
    },
    {
      "cell_type": "code",
      "execution_count": 5,
      "metadata": {
        "colab": {
          "base_uri": "https://localhost:8080/"
        },
        "id": "inoYc5pB49DK",
        "outputId": "62b36edd-0a21-4806-e6b1-bb078d645a40"
      },
      "outputs": [
        {
          "output_type": "execute_result",
          "data": {
            "text/plain": [
              "(3687372, 9)"
            ]
          },
          "metadata": {},
          "execution_count": 5
        }
      ],
      "source": [
        "clean_column=['indicator1', 'indicator2', 'indicator3', 'indicator4','indicator5', 'indicator6', 'indicator7', 'indicator8', 'pred']\n",
        "df=train[clean_column]\n",
        "\n",
        "df.shape"
      ]
    },
    {
      "cell_type": "code",
      "source": [
        "features=['indicator1', 'indicator2', 'indicator3', 'indicator4', 'indicator5','indicator6', 'indicator7', 'indicator8']\n",
        "X=df[features]\n",
        "y=df[['pred']]\n",
        "print(\"shape of X is \",X.shape,\"and shape of y is \", y.shape)"
      ],
      "metadata": {
        "colab": {
          "base_uri": "https://localhost:8080/"
        },
        "id": "mVdN9k15bCpG",
        "outputId": "6ebf788b-0630-4a92-ec25-886d77871c61"
      },
      "execution_count": 6,
      "outputs": [
        {
          "output_type": "stream",
          "name": "stdout",
          "text": [
            "shape of X is  (3687372, 8) and shape of y is  (3687372, 1)\n"
          ]
        }
      ]
    },
    {
      "cell_type": "code",
      "source": [
        "sns.heatmap(round(X.corr()*100,0), annot=True);"
      ],
      "metadata": {
        "colab": {
          "base_uri": "https://localhost:8080/",
          "height": 310
        },
        "id": "qZdyBc4bbC0C",
        "outputId": "eac2321e-1d3b-4a36-9dca-d65acb421ab4"
      },
      "execution_count": 7,
      "outputs": [
        {
          "output_type": "display_data",
          "data": {
            "text/plain": [
              "<Figure size 432x288 with 2 Axes>"
            ],
            "image/png": "[encoded data removed]"
          },
          "metadata": {
            "needs_background": "light"
          }
        }
      ]
    },
    {
      "cell_type": "code",
      "source": [
        "imputer = SimpleImputer(missing_values=np.nan, strategy='mean')\n",
        "imputer.fit(X)\n",
        "X = imputer.transform(X)\n",
        "#X=X.abs()\n",
        "\n",
        "le = LabelEncoder()\n",
        "y = le.fit_transform(y)\n",
        "\n",
        "print(\"X\", X.shape,\"\\n\\n y\", y.shape)\n",
        "\n",
        "print(\"scaled and encoded the dataframe ...!\")"
      ],
      "metadata": {
        "colab": {
          "base_uri": "https://localhost:8080/"
        },
        "id": "q1tYvCajbC3I",
        "outputId": "115aae4e-3bae-4d3c-d49c-90b442f15955"
      },
      "execution_count": 8,
      "outputs": [
        {
          "output_type": "stream",
          "name": "stderr",
          "text": [
            "/usr/local/lib/python3.7/dist-packages/sklearn/preprocessing/_label.py:115: DataConversionWarning: A column-vector y was passed when a 1d array was expected. Please change the shape of y to (n_samples, ), for example using ravel().\n",
            "  y = column_or_1d(y, warn=True)\n"
          ]
        },
        {
          "output_type": "stream",
          "name": "stdout",
          "text": [
            "X (3687372, 8) \n",
            "\n",
            " y (3687372,)\n",
            "scaled and encoded the dataframe ...!\n"
          ]
        }
      ]
    },
    {
      "cell_type": "code",
      "source": [
        "#encoding \n",
        "encoder = LabelEncoder()\n",
        "\n",
        "    \n",
        "#Selecting X features and Y labels\n",
        "X = pd.DataFrame(X)\n",
        "X.columns=['indicator1', 'indicator2', 'indicator3', 'indicator4','indicator5', 'indicator6', 'indicator7', 'indicator8']\n",
        "y_label = y\n",
        "print(X.shape,y.shape)\n",
        "\n",
        "print(\"more encoding and transformation ...!\")"
      ],
      "metadata": {
        "colab": {
          "base_uri": "https://localhost:8080/"
        },
        "id": "v1qiu8KkbC6D",
        "outputId": "4818e3f4-05be-4b59-9b36-f8ff0463eb7d"
      },
      "execution_count": 9,
      "outputs": [
        {
          "output_type": "stream",
          "name": "stdout",
          "text": [
            "(3687372, 8) (3687372,)\n",
            "more encoding and transformation ...!\n"
          ]
        }
      ]
    },
    {
      "cell_type": "code",
      "source": [
        "scaler = MinMaxScaler()\n",
        "X = scaler.fit_transform(X)\n",
        "print(X.shape)\n",
        "print(\"more scaling ... !\")"
      ],
      "metadata": {
        "colab": {
          "base_uri": "https://localhost:8080/"
        },
        "id": "34oqpKyhb9md",
        "outputId": "61d72e79-c763-4889-8224-8333372aa6eb"
      },
      "execution_count": 10,
      "outputs": [
        {
          "output_type": "stream",
          "name": "stdout",
          "text": [
            "(3687372, 8)\n",
            "more scaling ... !\n"
          ]
        }
      ]
    },
    {
      "cell_type": "code",
      "source": [
        "sns.heatmap(round(df.corr()*100,0), annot=True);"
      ],
      "metadata": {
        "colab": {
          "base_uri": "https://localhost:8080/",
          "height": 310
        },
        "id": "5HJ5Fse-b9pc",
        "outputId": "44edfcd8-e31a-415e-8c45-5fc9391e2f96"
      },
      "execution_count": 11,
      "outputs": [
        {
          "output_type": "display_data",
          "data": {
            "text/plain": [
              "<Figure size 432x288 with 2 Axes>"
            ],
            "image/png": "[encoded data removed]"
          },
          "metadata": {
            "needs_background": "light"
          }
        }
      ]
    },
    {
      "cell_type": "code",
      "source": [
        "X = pd.DataFrame(X)\n",
        "X.columns=['indicator1', 'indicator2', 'indicator3', 'indicator4','indicator5', 'indicator6', 'indicator7', 'indicator8']\n",
        "print(\"returning dataframe from numpy ...!\")"
      ],
      "metadata": {
        "colab": {
          "base_uri": "https://localhost:8080/"
        },
        "id": "dVURMknYb9sy",
        "outputId": "62215a0a-d6aa-429a-c554-db2227013a72"
      },
      "execution_count": 12,
      "outputs": [
        {
          "output_type": "stream",
          "name": "stdout",
          "text": [
            "returning dataframe from numpy ...!\n"
          ]
        }
      ]
    },
    {
      "cell_type": "markdown",
      "source": [
        "# CHOOSING IMPORTANT FEATURES"
      ],
      "metadata": {
        "id": "kSSGAtpgtMNE"
      }
    },
    {
      "cell_type": "code",
      "source": [
        "X_train, X_test, y_train, y_test =train_test_split(X,y_label)\n",
        "print(X_test.shape)\n",
        "print(y_test.shape)\n",
        "\n",
        "model = LinearRegression()\n",
        "model.fit(X_train, y_train)\n",
        "\n",
        "print(\"Intercept\",model.intercept_)\n",
        "print(\"Coef\", model.coef_)\n",
        "\n",
        "importance = model.coef_\n",
        "for i,v in enumerate(importance):\n",
        "\tprint('Feature: %0d, Score: %.5f' % (i,v))\n",
        "\n",
        "pyplot.bar([x for x in range(len(importance))], importance)\n",
        "pyplot.show()"
      ],
      "metadata": {
        "colab": {
          "base_uri": "https://localhost:8080/",
          "height": 495
        },
        "id": "vGbV0KN9b9vh",
        "outputId": "9db5b83f-f902-42a4-e7be-b8426a0d6886"
      },
      "execution_count": 13,
      "outputs": [
        {
          "output_type": "stream",
          "name": "stdout",
          "text": [
            "(921843, 8)\n",
            "(921843,)\n",
            "Intercept 0.4905956501290324\n",
            "Coef [-1.00558949  0.90940744  0.17150452  0.10033706 -0.12112844 -0.27438965\n",
            "  0.11406186  0.05003969]\n",
            "Feature: 0, Score: -1.00559\n",
            "Feature: 1, Score: 0.90941\n",
            "Feature: 2, Score: 0.17150\n",
            "Feature: 3, Score: 0.10034\n",
            "Feature: 4, Score: -0.12113\n",
            "Feature: 5, Score: -0.27439\n",
            "Feature: 6, Score: 0.11406\n",
            "Feature: 7, Score: 0.05004\n"
          ]
        },
        {
          "output_type": "display_data",
          "data": {
            "text/plain": [
              "<Figure size 432x288 with 1 Axes>"
            ],
            "image/png": "[encoded data removed]"
          },
          "metadata": {
            "needs_background": "light"
          }
        }
      ]
    },
    {
      "cell_type": "code",
      "source": [
        "new_features=['indicator2', 'indicator3', 'indicator4', 'indicator7', 'indicator8']\n",
        "X_features=X[new_features]\n",
        "print(X_features.shape)"
      ],
      "metadata": {
        "colab": {
          "base_uri": "https://localhost:8080/"
        },
        "id": "Tjmp_poLe_Pb",
        "outputId": "25b44ae9-4ef9-4fa2-ee0e-03adce0fe458"
      },
      "execution_count": 14,
      "outputs": [
        {
          "output_type": "stream",
          "name": "stdout",
          "text": [
            "(3687372, 5)\n"
          ]
        }
      ]
    },
    {
      "cell_type": "code",
      "source": [
        "X_train, X_test, y_train, y_test =train_test_split(X_features,y_label)\n",
        "print(X_test.shape)\n",
        "print(y_test.shape)\n",
        "\n",
        "model = LinearRegression()\n",
        "model.fit(X_train, y_train)\n",
        "\n",
        "print(\"Intercept\",model.intercept_)\n",
        "print(\"Coef\", model.coef_)\n",
        "\n",
        "importance = model.coef_\n",
        "# summarize feature importance\n",
        "for i,v in enumerate(importance):\n",
        "\tprint('Feature: %0d, Score: %.5f' % (i,v))\n",
        "# plot feature importance\n",
        "pyplot.bar([x for x in range(len(importance))], importance)\n",
        "pyplot.show()"
      ],
      "metadata": {
        "colab": {
          "base_uri": "https://localhost:8080/",
          "height": 421
        },
        "id": "_h3eN1ISe_SU",
        "outputId": "62f500ad-e7b0-4e91-b0d8-bae0c153367c"
      },
      "execution_count": 15,
      "outputs": [
        {
          "output_type": "stream",
          "name": "stdout",
          "text": [
            "(921843, 5)\n",
            "(921843,)\n",
            "Intercept 0.48794710516222367\n",
            "Coef [0.89453068 0.08875245 0.07998492 0.10476338 0.04948712]\n",
            "Feature: 0, Score: 0.89453\n",
            "Feature: 1, Score: 0.08875\n",
            "Feature: 2, Score: 0.07998\n",
            "Feature: 3, Score: 0.10476\n",
            "Feature: 4, Score: 0.04949\n"
          ]
        },
        {
          "output_type": "display_data",
          "data": {
            "text/plain": [
              "<Figure size 432x288 with 1 Axes>"
            ],
            "image/png": "[encoded data removed]"
          },
          "metadata": {
            "needs_background": "light"
          }
        }
      ]
    },
    {
      "cell_type": "markdown",
      "source": [
        "# MODELING"
      ],
      "metadata": {
        "id": "IEQG2kJwtWmT"
      }
    },
    {
      "cell_type": "code",
      "source": [
        "print(\"visualize dataset distribution\")\n",
        "X_train.mean().plot();"
      ],
      "metadata": {
        "colab": {
          "base_uri": "https://localhost:8080/",
          "height": 282
        },
        "id": "l2a4oXEte_VI",
        "outputId": "a6798726-1d00-40aa-825b-e6b4bdba672f"
      },
      "execution_count": 16,
      "outputs": [
        {
          "output_type": "stream",
          "name": "stdout",
          "text": [
            "visualize dataset distribution\n"
          ]
        },
        {
          "output_type": "display_data",
          "data": {
            "text/plain": [
              "<Figure size 432x288 with 1 Axes>"
            ],
            "image/png": "[encoded data removed]"
          },
          "metadata": {
            "needs_background": "light"
          }
        }
      ]
    },
    {
      "cell_type": "code",
      "source": [
        "#fitting a decision tree\n",
        "my_decision=LogisticRegression(random_state = 1000)\n",
        "my_decision.fit(X_train,y_train)\n",
        "y_pred=my_decision.predict(X_test)\n",
        "score_dt=accuracy_score(y_test,y_pred)\n",
        "print(score_dt)\n",
        "\n",
        "print(f1_score(y_test, y_pred))"
      ],
      "metadata": {
        "colab": {
          "base_uri": "https://localhost:8080/"
        },
        "id": "FIDoQdpGe_YF",
        "outputId": "402a83ca-3ec8-42a3-eaa3-e05350b7e6c6"
      },
      "execution_count": 17,
      "outputs": [
        {
          "output_type": "stream",
          "name": "stdout",
          "text": [
            "0.5130027564346641\n",
            "0.27752055502179823\n"
          ]
        }
      ]
    },
    {
      "cell_type": "code",
      "source": [
        "#testing its performance on train\n",
        "print(my_decision.score(X_train,y_train))\n",
        "print(my_decision.score(X_test,y_test))"
      ],
      "metadata": {
        "colab": {
          "base_uri": "https://localhost:8080/"
        },
        "id": "2JA-xLzSe_ad",
        "outputId": "3da64aa2-d138-41a1-8ece-818b85ab21dd"
      },
      "execution_count": 18,
      "outputs": [
        {
          "output_type": "stream",
          "name": "stdout",
          "text": [
            "0.512790862073766\n",
            "0.5130027564346641\n"
          ]
        }
      ]
    },
    {
      "cell_type": "code",
      "source": [
        "#checking feature importance on a log model\n",
        "clf = LogisticRegression(random_state=1)\n",
        "\n",
        "#features = df1.iloc[:,0:2]\n",
        "X=pd.get_dummies(X_train[new_features])\n",
        "\n",
        "y=y_train\n",
        "\n",
        "clf.fit(X,y)\n",
        "\n",
        "importance = clf.coef_[0]\n",
        "\n",
        "feat_importances = pd.Series(importance)\n",
        "feat_importances.nlargest(50).plot(kind='bar',title = 'Feature Importance');"
      ],
      "metadata": {
        "colab": {
          "base_uri": "https://localhost:8080/",
          "height": 278
        },
        "id": "o3pHbmxQb9yZ",
        "outputId": "cd530e54-b7c7-4dfa-8877-9a456a38fe62"
      },
      "execution_count": 19,
      "outputs": [
        {
          "output_type": "display_data",
          "data": {
            "text/plain": [
              "<Figure size 432x288 with 1 Axes>"
            ],
            "image/png": "[encoded data removed]"
          },
          "metadata": {
            "needs_background": "light"
          }
        }
      ]
    },
    {
      "cell_type": "code",
      "source": [
        "#fitting XGBClassifier\n",
        "model = XGBClassifier(importance_type='gain',\n",
        "              learning_rate=0.95, max_depth=5,\n",
        "              n_estimators=1_00, random_state=0,\n",
        "              )\n",
        "evalset =[(X_train,y_train),(X_test,y_test)]\n",
        "model.fit(X_train,y_train, eval_metric='logloss',eval_set=evalset)"
      ],
      "metadata": {
        "colab": {
          "base_uri": "https://localhost:8080/"
        },
        "id": "ScpGVUPygD36",
        "outputId": "3b8841f8-ab87-415f-8b48-5bebebd5d06c"
      },
      "execution_count": 20,
      "outputs": [
        {
          "output_type": "stream",
          "name": "stdout",
          "text": [
            "[0]\tvalidation_0-logloss:0.686818\tvalidation_1-logloss:0.689241\n",
            "[1]\tvalidation_0-logloss:0.690697\tvalidation_1-logloss:0.68845\n",
            "[2]\tvalidation_0-logloss:0.68841\tvalidation_1-logloss:0.687794\n",
            "[3]\tvalidation_0-logloss:0.685369\tvalidation_1-logloss:0.685179\n",
            "[4]\tvalidation_0-logloss:0.684637\tvalidation_1-logloss:0.68463\n",
            "[5]\tvalidation_0-logloss:0.682614\tvalidation_1-logloss:0.683981\n",
            "[6]\tvalidation_0-logloss:0.681682\tvalidation_1-logloss:0.682637\n",
            "[7]\tvalidation_0-logloss:0.682544\tvalidation_1-logloss:0.682531\n",
            "[8]\tvalidation_0-logloss:0.681649\tvalidation_1-logloss:0.682293\n",
            "[9]\tvalidation_0-logloss:0.681229\tvalidation_1-logloss:0.681685\n",
            "[10]\tvalidation_0-logloss:0.681182\tvalidation_1-logloss:0.68138\n",
            "[11]\tvalidation_0-logloss:0.680511\tvalidation_1-logloss:0.681059\n",
            "[12]\tvalidation_0-logloss:0.680247\tvalidation_1-logloss:0.680428\n",
            "[13]\tvalidation_0-logloss:0.679649\tvalidation_1-logloss:0.680522\n",
            "[14]\tvalidation_0-logloss:0.679705\tvalidation_1-logloss:0.680337\n",
            "[15]\tvalidation_0-logloss:0.679549\tvalidation_1-logloss:0.680276\n",
            "[16]\tvalidation_0-logloss:0.679401\tvalidation_1-logloss:0.679983\n",
            "[17]\tvalidation_0-logloss:0.678896\tvalidation_1-logloss:0.679634\n",
            "[18]\tvalidation_0-logloss:0.678808\tvalidation_1-logloss:0.67957\n",
            "[19]\tvalidation_0-logloss:0.67872\tvalidation_1-logloss:0.679543\n",
            "[20]\tvalidation_0-logloss:0.67874\tvalidation_1-logloss:0.679545\n",
            "[21]\tvalidation_0-logloss:0.67871\tvalidation_1-logloss:0.67953\n",
            "[22]\tvalidation_0-logloss:0.678403\tvalidation_1-logloss:0.679401\n",
            "[23]\tvalidation_0-logloss:0.678387\tvalidation_1-logloss:0.679323\n",
            "[24]\tvalidation_0-logloss:0.678011\tvalidation_1-logloss:0.679121\n",
            "[25]\tvalidation_0-logloss:0.677555\tvalidation_1-logloss:0.678594\n",
            "[26]\tvalidation_0-logloss:0.677723\tvalidation_1-logloss:0.678649\n",
            "[27]\tvalidation_0-logloss:0.677383\tvalidation_1-logloss:0.678463\n",
            "[28]\tvalidation_0-logloss:0.677127\tvalidation_1-logloss:0.678244\n",
            "[29]\tvalidation_0-logloss:0.677103\tvalidation_1-logloss:0.678219\n",
            "[30]\tvalidation_0-logloss:0.676933\tvalidation_1-logloss:0.678118\n",
            "[31]\tvalidation_0-logloss:0.676871\tvalidation_1-logloss:0.678139\n",
            "[32]\tvalidation_0-logloss:0.676626\tvalidation_1-logloss:0.677955\n",
            "[33]\tvalidation_0-logloss:0.676341\tvalidation_1-logloss:0.677701\n",
            "[34]\tvalidation_0-logloss:0.676326\tvalidation_1-logloss:0.677659\n",
            "[35]\tvalidation_0-logloss:0.676246\tvalidation_1-logloss:0.677603\n",
            "[36]\tvalidation_0-logloss:0.676166\tvalidation_1-logloss:0.677597\n",
            "[37]\tvalidation_0-logloss:0.676089\tvalidation_1-logloss:0.677545\n",
            "[38]\tvalidation_0-logloss:0.675817\tvalidation_1-logloss:0.677425\n",
            "[39]\tvalidation_0-logloss:0.675684\tvalidation_1-logloss:0.677352\n",
            "[40]\tvalidation_0-logloss:0.675642\tvalidation_1-logloss:0.677346\n",
            "[41]\tvalidation_0-logloss:0.675556\tvalidation_1-logloss:0.677317\n",
            "[42]\tvalidation_0-logloss:0.675505\tvalidation_1-logloss:0.677399\n",
            "[43]\tvalidation_0-logloss:0.675455\tvalidation_1-logloss:0.677404\n",
            "[44]\tvalidation_0-logloss:0.675334\tvalidation_1-logloss:0.677302\n",
            "[45]\tvalidation_0-logloss:0.675237\tvalidation_1-logloss:0.677257\n",
            "[46]\tvalidation_0-logloss:0.675146\tvalidation_1-logloss:0.677187\n",
            "[47]\tvalidation_0-logloss:0.675106\tvalidation_1-logloss:0.677203\n",
            "[48]\tvalidation_0-logloss:0.675005\tvalidation_1-logloss:0.677209\n",
            "[49]\tvalidation_0-logloss:0.674854\tvalidation_1-logloss:0.677039\n",
            "[50]\tvalidation_0-logloss:0.674738\tvalidation_1-logloss:0.676985\n",
            "[51]\tvalidation_0-logloss:0.674584\tvalidation_1-logloss:0.676831\n",
            "[52]\tvalidation_0-logloss:0.674479\tvalidation_1-logloss:0.676791\n",
            "[53]\tvalidation_0-logloss:0.674398\tvalidation_1-logloss:0.676747\n",
            "[54]\tvalidation_0-logloss:0.674368\tvalidation_1-logloss:0.676739\n",
            "[55]\tvalidation_0-logloss:0.67432\tvalidation_1-logloss:0.67669\n",
            "[56]\tvalidation_0-logloss:0.67424\tvalidation_1-logloss:0.676641\n",
            "[57]\tvalidation_0-logloss:0.674194\tvalidation_1-logloss:0.676612\n",
            "[58]\tvalidation_0-logloss:0.673966\tvalidation_1-logloss:0.676455\n",
            "[59]\tvalidation_0-logloss:0.67401\tvalidation_1-logloss:0.676446\n",
            "[60]\tvalidation_0-logloss:0.673848\tvalidation_1-logloss:0.676396\n",
            "[61]\tvalidation_0-logloss:0.673644\tvalidation_1-logloss:0.676416\n",
            "[62]\tvalidation_0-logloss:0.673546\tvalidation_1-logloss:0.676324\n",
            "[63]\tvalidation_0-logloss:0.673409\tvalidation_1-logloss:0.676212\n",
            "[64]\tvalidation_0-logloss:0.673385\tvalidation_1-logloss:0.676213\n",
            "[65]\tvalidation_0-logloss:0.673312\tvalidation_1-logloss:0.676201\n",
            "[66]\tvalidation_0-logloss:0.673293\tvalidation_1-logloss:0.676288\n",
            "[67]\tvalidation_0-logloss:0.673175\tvalidation_1-logloss:0.676162\n",
            "[68]\tvalidation_0-logloss:0.673121\tvalidation_1-logloss:0.676072\n",
            "[69]\tvalidation_0-logloss:0.673006\tvalidation_1-logloss:0.676\n",
            "[70]\tvalidation_0-logloss:0.672977\tvalidation_1-logloss:0.676026\n",
            "[71]\tvalidation_0-logloss:0.67287\tvalidation_1-logloss:0.675991\n",
            "[72]\tvalidation_0-logloss:0.672912\tvalidation_1-logloss:0.676063\n",
            "[73]\tvalidation_0-logloss:0.672876\tvalidation_1-logloss:0.676071\n",
            "[74]\tvalidation_0-logloss:0.672826\tvalidation_1-logloss:0.676091\n",
            "[75]\tvalidation_0-logloss:0.672787\tvalidation_1-logloss:0.676094\n",
            "[76]\tvalidation_0-logloss:0.672751\tvalidation_1-logloss:0.676106\n",
            "[77]\tvalidation_0-logloss:0.672719\tvalidation_1-logloss:0.676112\n",
            "[78]\tvalidation_0-logloss:0.672707\tvalidation_1-logloss:0.676114\n",
            "[79]\tvalidation_0-logloss:0.672669\tvalidation_1-logloss:0.676077\n",
            "[80]\tvalidation_0-logloss:0.67264\tvalidation_1-logloss:0.67608\n",
            "[81]\tvalidation_0-logloss:0.672539\tvalidation_1-logloss:0.675965\n",
            "[82]\tvalidation_0-logloss:0.672497\tvalidation_1-logloss:0.675949\n",
            "[83]\tvalidation_0-logloss:0.672316\tvalidation_1-logloss:0.675806\n",
            "[84]\tvalidation_0-logloss:0.672318\tvalidation_1-logloss:0.675836\n",
            "[85]\tvalidation_0-logloss:0.672259\tvalidation_1-logloss:0.675812\n",
            "[86]\tvalidation_0-logloss:0.671598\tvalidation_1-logloss:0.675486\n",
            "[87]\tvalidation_0-logloss:0.672134\tvalidation_1-logloss:0.675802\n",
            "[88]\tvalidation_0-logloss:0.672112\tvalidation_1-logloss:0.675804\n",
            "[89]\tvalidation_0-logloss:0.672086\tvalidation_1-logloss:0.675825\n",
            "[90]\tvalidation_0-logloss:0.672079\tvalidation_1-logloss:0.675826\n",
            "[91]\tvalidation_0-logloss:0.672036\tvalidation_1-logloss:0.675828\n",
            "[92]\tvalidation_0-logloss:0.672\tvalidation_1-logloss:0.67583\n",
            "[93]\tvalidation_0-logloss:0.671956\tvalidation_1-logloss:0.675826\n",
            "[94]\tvalidation_0-logloss:0.67194\tvalidation_1-logloss:0.675828\n",
            "[95]\tvalidation_0-logloss:0.671894\tvalidation_1-logloss:0.675766\n",
            "[96]\tvalidation_0-logloss:0.671871\tvalidation_1-logloss:0.675781\n",
            "[97]\tvalidation_0-logloss:0.671818\tvalidation_1-logloss:0.675818\n",
            "[98]\tvalidation_0-logloss:0.671787\tvalidation_1-logloss:0.675804\n",
            "[99]\tvalidation_0-logloss:0.671732\tvalidation_1-logloss:0.675781\n",
            "[100]\tvalidation_0-logloss:0.671641\tvalidation_1-logloss:0.675756\n",
            "[101]\tvalidation_0-logloss:0.671659\tvalidation_1-logloss:0.67562\n",
            "[102]\tvalidation_0-logloss:0.671575\tvalidation_1-logloss:0.675654\n",
            "[103]\tvalidation_0-logloss:0.67156\tvalidation_1-logloss:0.675673\n",
            "[104]\tvalidation_0-logloss:0.67156\tvalidation_1-logloss:0.675686\n",
            "[105]\tvalidation_0-logloss:0.671483\tvalidation_1-logloss:0.675679\n",
            "[106]\tvalidation_0-logloss:0.671445\tvalidation_1-logloss:0.675687\n",
            "[107]\tvalidation_0-logloss:0.671384\tvalidation_1-logloss:0.675664\n",
            "[108]\tvalidation_0-logloss:0.67129\tvalidation_1-logloss:0.675655\n",
            "[109]\tvalidation_0-logloss:0.671229\tvalidation_1-logloss:0.675632\n",
            "[110]\tvalidation_0-logloss:0.671176\tvalidation_1-logloss:0.675584\n",
            "[111]\tvalidation_0-logloss:0.67113\tvalidation_1-logloss:0.675561\n",
            "[112]\tvalidation_0-logloss:0.671076\tvalidation_1-logloss:0.675536\n",
            "[113]\tvalidation_0-logloss:0.67103\tvalidation_1-logloss:0.675535\n",
            "[114]\tvalidation_0-logloss:0.670939\tvalidation_1-logloss:0.675342\n",
            "[115]\tvalidation_0-logloss:0.67091\tvalidation_1-logloss:0.67533\n",
            "[116]\tvalidation_0-logloss:0.670897\tvalidation_1-logloss:0.675388\n",
            "[117]\tvalidation_0-logloss:0.670878\tvalidation_1-logloss:0.675365\n",
            "[118]\tvalidation_0-logloss:0.670734\tvalidation_1-logloss:0.675251\n",
            "[119]\tvalidation_0-logloss:0.670647\tvalidation_1-logloss:0.675267\n",
            "[120]\tvalidation_0-logloss:0.670607\tvalidation_1-logloss:0.675371\n",
            "[121]\tvalidation_0-logloss:0.670515\tvalidation_1-logloss:0.675266\n",
            "[122]\tvalidation_0-logloss:0.67052\tvalidation_1-logloss:0.675369\n",
            "[123]\tvalidation_0-logloss:0.670494\tvalidation_1-logloss:0.67538\n",
            "[124]\tvalidation_0-logloss:0.670549\tvalidation_1-logloss:0.675424\n",
            "[125]\tvalidation_0-logloss:0.670538\tvalidation_1-logloss:0.675412\n",
            "[126]\tvalidation_0-logloss:0.670497\tvalidation_1-logloss:0.675425\n",
            "[127]\tvalidation_0-logloss:0.670476\tvalidation_1-logloss:0.675446\n",
            "[128]\tvalidation_0-logloss:0.670452\tvalidation_1-logloss:0.675456\n",
            "[129]\tvalidation_0-logloss:0.670424\tvalidation_1-logloss:0.675468\n",
            "[130]\tvalidation_0-logloss:0.670393\tvalidation_1-logloss:0.675468\n",
            "[131]\tvalidation_0-logloss:0.670371\tvalidation_1-logloss:0.675474\n",
            "[132]\tvalidation_0-logloss:0.670329\tvalidation_1-logloss:0.675477\n",
            "[133]\tvalidation_0-logloss:0.670311\tvalidation_1-logloss:0.675464\n",
            "[134]\tvalidation_0-logloss:0.670316\tvalidation_1-logloss:0.675468\n",
            "[135]\tvalidation_0-logloss:0.670295\tvalidation_1-logloss:0.675483\n",
            "[136]\tvalidation_0-logloss:0.670248\tvalidation_1-logloss:0.675467\n",
            "[137]\tvalidation_0-logloss:0.670114\tvalidation_1-logloss:0.675323\n",
            "[138]\tvalidation_0-logloss:0.670125\tvalidation_1-logloss:0.675412\n",
            "[139]\tvalidation_0-logloss:0.670075\tvalidation_1-logloss:0.675398\n",
            "[140]\tvalidation_0-logloss:0.670053\tvalidation_1-logloss:0.675406\n",
            "[141]\tvalidation_0-logloss:0.670024\tvalidation_1-logloss:0.675376\n",
            "[142]\tvalidation_0-logloss:0.669877\tvalidation_1-logloss:0.675395\n",
            "[143]\tvalidation_0-logloss:0.669935\tvalidation_1-logloss:0.675402\n",
            "[144]\tvalidation_0-logloss:0.669904\tvalidation_1-logloss:0.675398\n",
            "[145]\tvalidation_0-logloss:0.669914\tvalidation_1-logloss:0.675357\n",
            "[146]\tvalidation_0-logloss:0.669799\tvalidation_1-logloss:0.675305\n",
            "[147]\tvalidation_0-logloss:0.669776\tvalidation_1-logloss:0.67531\n",
            "[148]\tvalidation_0-logloss:0.669673\tvalidation_1-logloss:0.67529\n",
            "[149]\tvalidation_0-logloss:0.669649\tvalidation_1-logloss:0.675298\n",
            "[150]\tvalidation_0-logloss:0.669595\tvalidation_1-logloss:0.6753\n",
            "[151]\tvalidation_0-logloss:0.669536\tvalidation_1-logloss:0.675315\n",
            "[152]\tvalidation_0-logloss:0.66952\tvalidation_1-logloss:0.675317\n",
            "[153]\tvalidation_0-logloss:0.669494\tvalidation_1-logloss:0.675319\n",
            "[154]\tvalidation_0-logloss:0.669381\tvalidation_1-logloss:0.67531\n",
            "[155]\tvalidation_0-logloss:0.66937\tvalidation_1-logloss:0.675305\n",
            "[156]\tvalidation_0-logloss:0.669344\tvalidation_1-logloss:0.675313\n",
            "[157]\tvalidation_0-logloss:0.669339\tvalidation_1-logloss:0.675315\n",
            "[158]\tvalidation_0-logloss:0.669309\tvalidation_1-logloss:0.675303\n",
            "[159]\tvalidation_0-logloss:0.669289\tvalidation_1-logloss:0.675306\n",
            "[160]\tvalidation_0-logloss:0.669246\tvalidation_1-logloss:0.67527\n",
            "[161]\tvalidation_0-logloss:0.669227\tvalidation_1-logloss:0.675266\n",
            "[162]\tvalidation_0-logloss:0.669205\tvalidation_1-logloss:0.675262\n",
            "[163]\tvalidation_0-logloss:0.669184\tvalidation_1-logloss:0.67527\n",
            "[164]\tvalidation_0-logloss:0.669166\tvalidation_1-logloss:0.67528\n",
            "[165]\tvalidation_0-logloss:0.66915\tvalidation_1-logloss:0.67529\n",
            "[166]\tvalidation_0-logloss:0.669104\tvalidation_1-logloss:0.675278\n",
            "[167]\tvalidation_0-logloss:0.669083\tvalidation_1-logloss:0.675286\n",
            "[168]\tvalidation_0-logloss:0.66903\tvalidation_1-logloss:0.675288\n",
            "[169]\tvalidation_0-logloss:0.668997\tvalidation_1-logloss:0.675297\n",
            "[170]\tvalidation_0-logloss:0.668957\tvalidation_1-logloss:0.675303\n",
            "[171]\tvalidation_0-logloss:0.668934\tvalidation_1-logloss:0.675312\n",
            "[172]\tvalidation_0-logloss:0.668912\tvalidation_1-logloss:0.675325\n",
            "[173]\tvalidation_0-logloss:0.668812\tvalidation_1-logloss:0.675309\n",
            "[174]\tvalidation_0-logloss:0.668792\tvalidation_1-logloss:0.675316\n",
            "[175]\tvalidation_0-logloss:0.668802\tvalidation_1-logloss:0.675341\n",
            "[176]\tvalidation_0-logloss:0.668766\tvalidation_1-logloss:0.675333\n",
            "[177]\tvalidation_0-logloss:0.668732\tvalidation_1-logloss:0.675309\n",
            "[178]\tvalidation_0-logloss:0.668704\tvalidation_1-logloss:0.675325\n",
            "[179]\tvalidation_0-logloss:0.668674\tvalidation_1-logloss:0.675331\n",
            "[180]\tvalidation_0-logloss:0.668654\tvalidation_1-logloss:0.675328\n",
            "[181]\tvalidation_0-logloss:0.668628\tvalidation_1-logloss:0.675336\n",
            "[182]\tvalidation_0-logloss:0.668601\tvalidation_1-logloss:0.675342\n",
            "[183]\tvalidation_0-logloss:0.668574\tvalidation_1-logloss:0.675344\n",
            "[184]\tvalidation_0-logloss:0.668568\tvalidation_1-logloss:0.675341\n",
            "[185]\tvalidation_0-logloss:0.668561\tvalidation_1-logloss:0.675341\n",
            "[186]\tvalidation_0-logloss:0.668576\tvalidation_1-logloss:0.675343\n",
            "[187]\tvalidation_0-logloss:0.668456\tvalidation_1-logloss:0.675276\n",
            "[188]\tvalidation_0-logloss:0.668411\tvalidation_1-logloss:0.675281\n",
            "[189]\tvalidation_0-logloss:0.668401\tvalidation_1-logloss:0.675278\n",
            "[190]\tvalidation_0-logloss:0.668358\tvalidation_1-logloss:0.675276\n",
            "[191]\tvalidation_0-logloss:0.668327\tvalidation_1-logloss:0.6753\n",
            "[192]\tvalidation_0-logloss:0.66828\tvalidation_1-logloss:0.675289\n",
            "[193]\tvalidation_0-logloss:0.668257\tvalidation_1-logloss:0.675299\n",
            "[194]\tvalidation_0-logloss:0.668233\tvalidation_1-logloss:0.675302\n",
            "[195]\tvalidation_0-logloss:0.668187\tvalidation_1-logloss:0.675241\n",
            "[196]\tvalidation_0-logloss:0.668158\tvalidation_1-logloss:0.675248\n",
            "[197]\tvalidation_0-logloss:0.668093\tvalidation_1-logloss:0.675279\n",
            "[198]\tvalidation_0-logloss:0.66806\tvalidation_1-logloss:0.675272\n",
            "[199]\tvalidation_0-logloss:0.668012\tvalidation_1-logloss:0.675275\n",
            "[200]\tvalidation_0-logloss:0.668009\tvalidation_1-logloss:0.675289\n",
            "[201]\tvalidation_0-logloss:0.667981\tvalidation_1-logloss:0.675302\n",
            "[202]\tvalidation_0-logloss:0.667886\tvalidation_1-logloss:0.675224\n",
            "[203]\tvalidation_0-logloss:0.667825\tvalidation_1-logloss:0.675157\n",
            "[204]\tvalidation_0-logloss:0.667809\tvalidation_1-logloss:0.675148\n",
            "[205]\tvalidation_0-logloss:0.667794\tvalidation_1-logloss:0.67514\n",
            "[206]\tvalidation_0-logloss:0.667788\tvalidation_1-logloss:0.67514\n",
            "[207]\tvalidation_0-logloss:0.667763\tvalidation_1-logloss:0.675142\n",
            "[208]\tvalidation_0-logloss:0.66772\tvalidation_1-logloss:0.675143\n",
            "[209]\tvalidation_0-logloss:0.667693\tvalidation_1-logloss:0.67514\n",
            "[210]\tvalidation_0-logloss:0.66766\tvalidation_1-logloss:0.675169\n",
            "[211]\tvalidation_0-logloss:0.667639\tvalidation_1-logloss:0.675172\n",
            "[212]\tvalidation_0-logloss:0.667579\tvalidation_1-logloss:0.675175\n",
            "[213]\tvalidation_0-logloss:0.667497\tvalidation_1-logloss:0.67516\n",
            "[214]\tvalidation_0-logloss:0.667488\tvalidation_1-logloss:0.675162\n",
            "[215]\tvalidation_0-logloss:0.667477\tvalidation_1-logloss:0.675178\n",
            "[216]\tvalidation_0-logloss:0.667462\tvalidation_1-logloss:0.675186\n",
            "[217]\tvalidation_0-logloss:0.667433\tvalidation_1-logloss:0.675207\n",
            "[218]\tvalidation_0-logloss:0.667394\tvalidation_1-logloss:0.675233\n",
            "[219]\tvalidation_0-logloss:0.667347\tvalidation_1-logloss:0.675238\n",
            "[220]\tvalidation_0-logloss:0.667302\tvalidation_1-logloss:0.675221\n",
            "[221]\tvalidation_0-logloss:0.66729\tvalidation_1-logloss:0.675223\n",
            "[222]\tvalidation_0-logloss:0.66728\tvalidation_1-logloss:0.675228\n",
            "[223]\tvalidation_0-logloss:0.667273\tvalidation_1-logloss:0.675236\n",
            "[224]\tvalidation_0-logloss:0.667268\tvalidation_1-logloss:0.675237\n",
            "[225]\tvalidation_0-logloss:0.667262\tvalidation_1-logloss:0.675232\n",
            "[226]\tvalidation_0-logloss:0.667254\tvalidation_1-logloss:0.675244\n",
            "[227]\tvalidation_0-logloss:0.66723\tvalidation_1-logloss:0.675263\n",
            "[228]\tvalidation_0-logloss:0.667205\tvalidation_1-logloss:0.675283\n",
            "[229]\tvalidation_0-logloss:0.667197\tvalidation_1-logloss:0.675288\n",
            "[230]\tvalidation_0-logloss:0.667199\tvalidation_1-logloss:0.675288\n",
            "[231]\tvalidation_0-logloss:0.667182\tvalidation_1-logloss:0.675292\n",
            "[232]\tvalidation_0-logloss:0.667161\tvalidation_1-logloss:0.675301\n",
            "[233]\tvalidation_0-logloss:0.667156\tvalidation_1-logloss:0.675322\n",
            "[234]\tvalidation_0-logloss:0.667121\tvalidation_1-logloss:0.675323\n",
            "[235]\tvalidation_0-logloss:0.667108\tvalidation_1-logloss:0.675328\n",
            "[236]\tvalidation_0-logloss:0.667104\tvalidation_1-logloss:0.675335\n",
            "[237]\tvalidation_0-logloss:0.667117\tvalidation_1-logloss:0.675315\n",
            "[238]\tvalidation_0-logloss:0.667102\tvalidation_1-logloss:0.675324\n",
            "[239]\tvalidation_0-logloss:0.667063\tvalidation_1-logloss:0.675328\n",
            "[240]\tvalidation_0-logloss:0.667034\tvalidation_1-logloss:0.675345\n",
            "[241]\tvalidation_0-logloss:0.667003\tvalidation_1-logloss:0.67535\n",
            "[242]\tvalidation_0-logloss:0.666993\tvalidation_1-logloss:0.675341\n",
            "[243]\tvalidation_0-logloss:0.666944\tvalidation_1-logloss:0.675347\n",
            "[244]\tvalidation_0-logloss:0.666927\tvalidation_1-logloss:0.675368\n",
            "[245]\tvalidation_0-logloss:0.666855\tvalidation_1-logloss:0.675356\n",
            "[246]\tvalidation_0-logloss:0.666861\tvalidation_1-logloss:0.67536\n",
            "[247]\tvalidation_0-logloss:0.666832\tvalidation_1-logloss:0.675374\n",
            "[248]\tvalidation_0-logloss:0.666811\tvalidation_1-logloss:0.67539\n",
            "[249]\tvalidation_0-logloss:0.666722\tvalidation_1-logloss:0.67532\n",
            "[250]\tvalidation_0-logloss:0.666766\tvalidation_1-logloss:0.675415\n",
            "[251]\tvalidation_0-logloss:0.666751\tvalidation_1-logloss:0.675421\n",
            "[252]\tvalidation_0-logloss:0.666748\tvalidation_1-logloss:0.67542\n",
            "[253]\tvalidation_0-logloss:0.666729\tvalidation_1-logloss:0.675418\n",
            "[254]\tvalidation_0-logloss:0.666685\tvalidation_1-logloss:0.675434\n",
            "[255]\tvalidation_0-logloss:0.666629\tvalidation_1-logloss:0.675416\n",
            "[256]\tvalidation_0-logloss:0.666585\tvalidation_1-logloss:0.675419\n",
            "[257]\tvalidation_0-logloss:0.666537\tvalidation_1-logloss:0.675432\n",
            "[258]\tvalidation_0-logloss:0.666492\tvalidation_1-logloss:0.675427\n",
            "[259]\tvalidation_0-logloss:0.666476\tvalidation_1-logloss:0.675442\n",
            "[260]\tvalidation_0-logloss:0.666455\tvalidation_1-logloss:0.675438\n",
            "[261]\tvalidation_0-logloss:0.666434\tvalidation_1-logloss:0.675453\n",
            "[262]\tvalidation_0-logloss:0.666408\tvalidation_1-logloss:0.67546\n",
            "[263]\tvalidation_0-logloss:0.666391\tvalidation_1-logloss:0.675472\n",
            "[264]\tvalidation_0-logloss:0.666364\tvalidation_1-logloss:0.675476\n",
            "[265]\tvalidation_0-logloss:0.666343\tvalidation_1-logloss:0.67549\n",
            "[266]\tvalidation_0-logloss:0.666333\tvalidation_1-logloss:0.675493\n",
            "[267]\tvalidation_0-logloss:0.666304\tvalidation_1-logloss:0.675518\n",
            "[268]\tvalidation_0-logloss:0.666289\tvalidation_1-logloss:0.675516\n",
            "[269]\tvalidation_0-logloss:0.666275\tvalidation_1-logloss:0.67553\n",
            "[270]\tvalidation_0-logloss:0.666235\tvalidation_1-logloss:0.675523\n",
            "[271]\tvalidation_0-logloss:0.666205\tvalidation_1-logloss:0.675526\n",
            "[272]\tvalidation_0-logloss:0.666184\tvalidation_1-logloss:0.675535\n",
            "[273]\tvalidation_0-logloss:0.666148\tvalidation_1-logloss:0.675539\n",
            "[274]\tvalidation_0-logloss:0.66611\tvalidation_1-logloss:0.675516\n",
            "[275]\tvalidation_0-logloss:0.66611\tvalidation_1-logloss:0.675547\n",
            "[276]\tvalidation_0-logloss:0.666081\tvalidation_1-logloss:0.675571\n",
            "[277]\tvalidation_0-logloss:0.666052\tvalidation_1-logloss:0.675581\n",
            "[278]\tvalidation_0-logloss:0.666026\tvalidation_1-logloss:0.675585\n",
            "[279]\tvalidation_0-logloss:0.666019\tvalidation_1-logloss:0.675589\n",
            "[280]\tvalidation_0-logloss:0.665988\tvalidation_1-logloss:0.675601\n",
            "[281]\tvalidation_0-logloss:0.665969\tvalidation_1-logloss:0.675606\n",
            "[282]\tvalidation_0-logloss:0.665963\tvalidation_1-logloss:0.675607\n",
            "[283]\tvalidation_0-logloss:0.665947\tvalidation_1-logloss:0.675618\n",
            "[284]\tvalidation_0-logloss:0.66593\tvalidation_1-logloss:0.675616\n",
            "[285]\tvalidation_0-logloss:0.665887\tvalidation_1-logloss:0.675624\n",
            "[286]\tvalidation_0-logloss:0.665858\tvalidation_1-logloss:0.675639\n",
            "[287]\tvalidation_0-logloss:0.665843\tvalidation_1-logloss:0.675649\n",
            "[288]\tvalidation_0-logloss:0.665795\tvalidation_1-logloss:0.675653\n",
            "[289]\tvalidation_0-logloss:0.665748\tvalidation_1-logloss:0.67564\n",
            "[290]\tvalidation_0-logloss:0.66573\tvalidation_1-logloss:0.675653\n",
            "[291]\tvalidation_0-logloss:0.665627\tvalidation_1-logloss:0.675592\n",
            "[292]\tvalidation_0-logloss:0.665597\tvalidation_1-logloss:0.675585\n",
            "[293]\tvalidation_0-logloss:0.665578\tvalidation_1-logloss:0.675593\n",
            "[294]\tvalidation_0-logloss:0.665565\tvalidation_1-logloss:0.675605\n",
            "[295]\tvalidation_0-logloss:0.665547\tvalidation_1-logloss:0.675611\n",
            "[296]\tvalidation_0-logloss:0.665517\tvalidation_1-logloss:0.675628\n",
            "[297]\tvalidation_0-logloss:0.665502\tvalidation_1-logloss:0.675624\n",
            "[298]\tvalidation_0-logloss:0.665474\tvalidation_1-logloss:0.675613\n",
            "[299]\tvalidation_0-logloss:0.665453\tvalidation_1-logloss:0.675623\n",
            "[300]\tvalidation_0-logloss:0.665407\tvalidation_1-logloss:0.675615\n",
            "[301]\tvalidation_0-logloss:0.665372\tvalidation_1-logloss:0.675628\n",
            "[302]\tvalidation_0-logloss:0.665354\tvalidation_1-logloss:0.675654\n",
            "[303]\tvalidation_0-logloss:0.665335\tvalidation_1-logloss:0.675678\n",
            "[304]\tvalidation_0-logloss:0.66531\tvalidation_1-logloss:0.675682\n",
            "[305]\tvalidation_0-logloss:0.665282\tvalidation_1-logloss:0.675697\n",
            "[306]\tvalidation_0-logloss:0.665268\tvalidation_1-logloss:0.675694\n",
            "[307]\tvalidation_0-logloss:0.665208\tvalidation_1-logloss:0.675687\n",
            "[308]\tvalidation_0-logloss:0.665202\tvalidation_1-logloss:0.675688\n",
            "[309]\tvalidation_0-logloss:0.665222\tvalidation_1-logloss:0.675685\n",
            "[310]\tvalidation_0-logloss:0.665189\tvalidation_1-logloss:0.675671\n",
            "[311]\tvalidation_0-logloss:0.665139\tvalidation_1-logloss:0.675665\n",
            "[312]\tvalidation_0-logloss:0.66508\tvalidation_1-logloss:0.675636\n",
            "[313]\tvalidation_0-logloss:0.665042\tvalidation_1-logloss:0.675638\n",
            "[314]\tvalidation_0-logloss:0.665005\tvalidation_1-logloss:0.675625\n",
            "[315]\tvalidation_0-logloss:0.66497\tvalidation_1-logloss:0.67564\n",
            "[316]\tvalidation_0-logloss:0.664954\tvalidation_1-logloss:0.675638\n",
            "[317]\tvalidation_0-logloss:0.664936\tvalidation_1-logloss:0.675642\n",
            "[318]\tvalidation_0-logloss:0.664902\tvalidation_1-logloss:0.675641\n",
            "[319]\tvalidation_0-logloss:0.664869\tvalidation_1-logloss:0.675658\n",
            "[320]\tvalidation_0-logloss:0.664839\tvalidation_1-logloss:0.675647\n",
            "[321]\tvalidation_0-logloss:0.664792\tvalidation_1-logloss:0.675651\n",
            "[322]\tvalidation_0-logloss:0.664762\tvalidation_1-logloss:0.675673\n",
            "[323]\tvalidation_0-logloss:0.664699\tvalidation_1-logloss:0.675655\n",
            "[324]\tvalidation_0-logloss:0.664663\tvalidation_1-logloss:0.675654\n",
            "[325]\tvalidation_0-logloss:0.664649\tvalidation_1-logloss:0.675672\n",
            "[326]\tvalidation_0-logloss:0.664634\tvalidation_1-logloss:0.675679\n",
            "[327]\tvalidation_0-logloss:0.664596\tvalidation_1-logloss:0.675685\n",
            "[328]\tvalidation_0-logloss:0.664507\tvalidation_1-logloss:0.67564\n",
            "[329]\tvalidation_0-logloss:0.664509\tvalidation_1-logloss:0.675667\n",
            "[330]\tvalidation_0-logloss:0.664466\tvalidation_1-logloss:0.675673\n",
            "[331]\tvalidation_0-logloss:0.664431\tvalidation_1-logloss:0.675659\n",
            "[332]\tvalidation_0-logloss:0.66442\tvalidation_1-logloss:0.675662\n",
            "[333]\tvalidation_0-logloss:0.664395\tvalidation_1-logloss:0.67567\n",
            "[334]\tvalidation_0-logloss:0.664368\tvalidation_1-logloss:0.675686\n",
            "[335]\tvalidation_0-logloss:0.664354\tvalidation_1-logloss:0.67569\n",
            "[336]\tvalidation_0-logloss:0.664305\tvalidation_1-logloss:0.675697\n",
            "[337]\tvalidation_0-logloss:0.664283\tvalidation_1-logloss:0.675716\n",
            "[338]\tvalidation_0-logloss:0.664274\tvalidation_1-logloss:0.675708\n",
            "[339]\tvalidation_0-logloss:0.664245\tvalidation_1-logloss:0.675693\n",
            "[340]\tvalidation_0-logloss:0.664232\tvalidation_1-logloss:0.6757\n",
            "[341]\tvalidation_0-logloss:0.664201\tvalidation_1-logloss:0.675718\n",
            "[342]\tvalidation_0-logloss:0.664193\tvalidation_1-logloss:0.675726\n",
            "[343]\tvalidation_0-logloss:0.664175\tvalidation_1-logloss:0.675732\n",
            "[344]\tvalidation_0-logloss:0.664137\tvalidation_1-logloss:0.675721\n",
            "[345]\tvalidation_0-logloss:0.664115\tvalidation_1-logloss:0.675706\n",
            "[346]\tvalidation_0-logloss:0.664085\tvalidation_1-logloss:0.675739\n",
            "[347]\tvalidation_0-logloss:0.664051\tvalidation_1-logloss:0.675734\n",
            "[348]\tvalidation_0-logloss:0.664031\tvalidation_1-logloss:0.675744\n",
            "[349]\tvalidation_0-logloss:0.663974\tvalidation_1-logloss:0.675729\n",
            "[350]\tvalidation_0-logloss:0.663956\tvalidation_1-logloss:0.675728\n",
            "[351]\tvalidation_0-logloss:0.663937\tvalidation_1-logloss:0.675731\n",
            "[352]\tvalidation_0-logloss:0.663912\tvalidation_1-logloss:0.675731\n",
            "[353]\tvalidation_0-logloss:0.663894\tvalidation_1-logloss:0.675742\n",
            "[354]\tvalidation_0-logloss:0.663898\tvalidation_1-logloss:0.675752\n",
            "[355]\tvalidation_0-logloss:0.663874\tvalidation_1-logloss:0.675757\n",
            "[356]\tvalidation_0-logloss:0.663855\tvalidation_1-logloss:0.67577\n",
            "[357]\tvalidation_0-logloss:0.663821\tvalidation_1-logloss:0.675795\n",
            "[358]\tvalidation_0-logloss:0.663818\tvalidation_1-logloss:0.675796\n",
            "[359]\tvalidation_0-logloss:0.663817\tvalidation_1-logloss:0.675795\n",
            "[360]\tvalidation_0-logloss:0.663809\tvalidation_1-logloss:0.675801\n",
            "[361]\tvalidation_0-logloss:0.663809\tvalidation_1-logloss:0.675814\n",
            "[362]\tvalidation_0-logloss:0.663789\tvalidation_1-logloss:0.675825\n",
            "[363]\tvalidation_0-logloss:0.663759\tvalidation_1-logloss:0.67581\n",
            "[364]\tvalidation_0-logloss:0.663729\tvalidation_1-logloss:0.675833\n",
            "[365]\tvalidation_0-logloss:0.663702\tvalidation_1-logloss:0.675835\n",
            "[366]\tvalidation_0-logloss:0.663671\tvalidation_1-logloss:0.675841\n",
            "[367]\tvalidation_0-logloss:0.663629\tvalidation_1-logloss:0.675835\n",
            "[368]\tvalidation_0-logloss:0.663611\tvalidation_1-logloss:0.675858\n",
            "[369]\tvalidation_0-logloss:0.663562\tvalidation_1-logloss:0.675868\n",
            "[370]\tvalidation_0-logloss:0.663539\tvalidation_1-logloss:0.675911\n",
            "[371]\tvalidation_0-logloss:0.663517\tvalidation_1-logloss:0.675904\n",
            "[372]\tvalidation_0-logloss:0.663485\tvalidation_1-logloss:0.675911\n",
            "[373]\tvalidation_0-logloss:0.663462\tvalidation_1-logloss:0.675927\n",
            "[374]\tvalidation_0-logloss:0.663424\tvalidation_1-logloss:0.675944\n",
            "[375]\tvalidation_0-logloss:0.663389\tvalidation_1-logloss:0.675939\n",
            "[376]\tvalidation_0-logloss:0.663383\tvalidation_1-logloss:0.67594\n",
            "[377]\tvalidation_0-logloss:0.663361\tvalidation_1-logloss:0.675957\n",
            "[378]\tvalidation_0-logloss:0.663343\tvalidation_1-logloss:0.675994\n",
            "[379]\tvalidation_0-logloss:0.663326\tvalidation_1-logloss:0.676009\n",
            "[380]\tvalidation_0-logloss:0.663312\tvalidation_1-logloss:0.676011\n",
            "[381]\tvalidation_0-logloss:0.663304\tvalidation_1-logloss:0.676005\n",
            "[382]\tvalidation_0-logloss:0.663288\tvalidation_1-logloss:0.676019\n",
            "[383]\tvalidation_0-logloss:0.663252\tvalidation_1-logloss:0.676029\n",
            "[384]\tvalidation_0-logloss:0.663225\tvalidation_1-logloss:0.676051\n",
            "[385]\tvalidation_0-logloss:0.6632\tvalidation_1-logloss:0.676058\n",
            "[386]\tvalidation_0-logloss:0.663176\tvalidation_1-logloss:0.67607\n",
            "[387]\tvalidation_0-logloss:0.663165\tvalidation_1-logloss:0.676083\n",
            "[388]\tvalidation_0-logloss:0.663146\tvalidation_1-logloss:0.676089\n",
            "[389]\tvalidation_0-logloss:0.663143\tvalidation_1-logloss:0.676089\n",
            "[390]\tvalidation_0-logloss:0.663137\tvalidation_1-logloss:0.676092\n",
            "[391]\tvalidation_0-logloss:0.663107\tvalidation_1-logloss:0.676103\n",
            "[392]\tvalidation_0-logloss:0.663098\tvalidation_1-logloss:0.676109\n",
            "[393]\tvalidation_0-logloss:0.663086\tvalidation_1-logloss:0.676095\n",
            "[394]\tvalidation_0-logloss:0.663062\tvalidation_1-logloss:0.676114\n",
            "[395]\tvalidation_0-logloss:0.663038\tvalidation_1-logloss:0.676121\n",
            "[396]\tvalidation_0-logloss:0.663019\tvalidation_1-logloss:0.676128\n",
            "[397]\tvalidation_0-logloss:0.663013\tvalidation_1-logloss:0.67613\n",
            "[398]\tvalidation_0-logloss:0.662986\tvalidation_1-logloss:0.676137\n",
            "[399]\tvalidation_0-logloss:0.662911\tvalidation_1-logloss:0.676096\n",
            "[400]\tvalidation_0-logloss:0.662892\tvalidation_1-logloss:0.676084\n",
            "[401]\tvalidation_0-logloss:0.662865\tvalidation_1-logloss:0.676093\n",
            "[402]\tvalidation_0-logloss:0.66283\tvalidation_1-logloss:0.676101\n",
            "[403]\tvalidation_0-logloss:0.662823\tvalidation_1-logloss:0.676105\n",
            "[404]\tvalidation_0-logloss:0.662768\tvalidation_1-logloss:0.676095\n",
            "[405]\tvalidation_0-logloss:0.662748\tvalidation_1-logloss:0.676116\n",
            "[406]\tvalidation_0-logloss:0.662734\tvalidation_1-logloss:0.676114\n",
            "[407]\tvalidation_0-logloss:0.662689\tvalidation_1-logloss:0.676097\n",
            "[408]\tvalidation_0-logloss:0.662679\tvalidation_1-logloss:0.67611\n",
            "[409]\tvalidation_0-logloss:0.66267\tvalidation_1-logloss:0.676109\n",
            "[410]\tvalidation_0-logloss:0.662639\tvalidation_1-logloss:0.676106\n",
            "[411]\tvalidation_0-logloss:0.662612\tvalidation_1-logloss:0.676113\n",
            "[412]\tvalidation_0-logloss:0.662608\tvalidation_1-logloss:0.676114\n",
            "[413]\tvalidation_0-logloss:0.662605\tvalidation_1-logloss:0.676113\n",
            "[414]\tvalidation_0-logloss:0.662589\tvalidation_1-logloss:0.676112\n",
            "[415]\tvalidation_0-logloss:0.662588\tvalidation_1-logloss:0.676113\n",
            "[416]\tvalidation_0-logloss:0.662586\tvalidation_1-logloss:0.676113\n",
            "[417]\tvalidation_0-logloss:0.662566\tvalidation_1-logloss:0.676132\n",
            "[418]\tvalidation_0-logloss:0.662547\tvalidation_1-logloss:0.676146\n",
            "[419]\tvalidation_0-logloss:0.662523\tvalidation_1-logloss:0.676151\n",
            "[420]\tvalidation_0-logloss:0.6625\tvalidation_1-logloss:0.676151\n",
            "[421]\tvalidation_0-logloss:0.662466\tvalidation_1-logloss:0.676145\n",
            "[422]\tvalidation_0-logloss:0.662445\tvalidation_1-logloss:0.67616\n",
            "[423]\tvalidation_0-logloss:0.662391\tvalidation_1-logloss:0.676135\n",
            "[424]\tvalidation_0-logloss:0.662379\tvalidation_1-logloss:0.676138\n",
            "[425]\tvalidation_0-logloss:0.662374\tvalidation_1-logloss:0.676143\n",
            "[426]\tvalidation_0-logloss:0.662341\tvalidation_1-logloss:0.67615\n",
            "[427]\tvalidation_0-logloss:0.662315\tvalidation_1-logloss:0.676157\n",
            "[428]\tvalidation_0-logloss:0.662303\tvalidation_1-logloss:0.676161\n",
            "[429]\tvalidation_0-logloss:0.662293\tvalidation_1-logloss:0.676162\n",
            "[430]\tvalidation_0-logloss:0.662259\tvalidation_1-logloss:0.676164\n",
            "[431]\tvalidation_0-logloss:0.662225\tvalidation_1-logloss:0.676186\n",
            "[432]\tvalidation_0-logloss:0.662209\tvalidation_1-logloss:0.676189\n",
            "[433]\tvalidation_0-logloss:0.662183\tvalidation_1-logloss:0.676212\n",
            "[434]\tvalidation_0-logloss:0.662146\tvalidation_1-logloss:0.676184\n",
            "[435]\tvalidation_0-logloss:0.662117\tvalidation_1-logloss:0.676202\n",
            "[436]\tvalidation_0-logloss:0.662143\tvalidation_1-logloss:0.676191\n",
            "[437]\tvalidation_0-logloss:0.66213\tvalidation_1-logloss:0.676202\n",
            "[438]\tvalidation_0-logloss:0.662092\tvalidation_1-logloss:0.676219\n",
            "[439]\tvalidation_0-logloss:0.662071\tvalidation_1-logloss:0.676221\n",
            "[440]\tvalidation_0-logloss:0.662023\tvalidation_1-logloss:0.676232\n",
            "[441]\tvalidation_0-logloss:0.66201\tvalidation_1-logloss:0.676242\n",
            "[442]\tvalidation_0-logloss:0.661934\tvalidation_1-logloss:0.676171\n",
            "[443]\tvalidation_0-logloss:0.661837\tvalidation_1-logloss:0.676154\n",
            "[444]\tvalidation_0-logloss:0.661822\tvalidation_1-logloss:0.67612\n",
            "[445]\tvalidation_0-logloss:0.661799\tvalidation_1-logloss:0.676134\n",
            "[446]\tvalidation_0-logloss:0.661784\tvalidation_1-logloss:0.67614\n",
            "[447]\tvalidation_0-logloss:0.661744\tvalidation_1-logloss:0.676132\n",
            "[448]\tvalidation_0-logloss:0.661734\tvalidation_1-logloss:0.676141\n",
            "[449]\tvalidation_0-logloss:0.661723\tvalidation_1-logloss:0.676142\n",
            "[450]\tvalidation_0-logloss:0.661684\tvalidation_1-logloss:0.676163\n",
            "[451]\tvalidation_0-logloss:0.661663\tvalidation_1-logloss:0.676183\n",
            "[452]\tvalidation_0-logloss:0.661642\tvalidation_1-logloss:0.676209\n",
            "[453]\tvalidation_0-logloss:0.661621\tvalidation_1-logloss:0.676218\n",
            "[454]\tvalidation_0-logloss:0.661595\tvalidation_1-logloss:0.676217\n",
            "[455]\tvalidation_0-logloss:0.661541\tvalidation_1-logloss:0.676217\n",
            "[456]\tvalidation_0-logloss:0.661496\tvalidation_1-logloss:0.676241\n",
            "[457]\tvalidation_0-logloss:0.661474\tvalidation_1-logloss:0.676259\n",
            "[458]\tvalidation_0-logloss:0.66146\tvalidation_1-logloss:0.676259\n",
            "[459]\tvalidation_0-logloss:0.66139\tvalidation_1-logloss:0.676244\n",
            "[460]\tvalidation_0-logloss:0.661377\tvalidation_1-logloss:0.676255\n",
            "[461]\tvalidation_0-logloss:0.661283\tvalidation_1-logloss:0.676161\n",
            "[462]\tvalidation_0-logloss:0.661283\tvalidation_1-logloss:0.676257\n",
            "[463]\tvalidation_0-logloss:0.66128\tvalidation_1-logloss:0.676286\n",
            "[464]\tvalidation_0-logloss:0.661235\tvalidation_1-logloss:0.676189\n",
            "[465]\tvalidation_0-logloss:0.661184\tvalidation_1-logloss:0.676194\n",
            "[466]\tvalidation_0-logloss:0.661176\tvalidation_1-logloss:0.676188\n",
            "[467]\tvalidation_0-logloss:0.66117\tvalidation_1-logloss:0.676224\n",
            "[468]\tvalidation_0-logloss:0.661146\tvalidation_1-logloss:0.676221\n",
            "[469]\tvalidation_0-logloss:0.661155\tvalidation_1-logloss:0.676309\n",
            "[470]\tvalidation_0-logloss:0.661132\tvalidation_1-logloss:0.676311\n",
            "[471]\tvalidation_0-logloss:0.661121\tvalidation_1-logloss:0.676322\n",
            "[472]\tvalidation_0-logloss:0.661082\tvalidation_1-logloss:0.676305\n",
            "[473]\tvalidation_0-logloss:0.660999\tvalidation_1-logloss:0.676293\n",
            "[474]\tvalidation_0-logloss:0.660982\tvalidation_1-logloss:0.676289\n",
            "[475]\tvalidation_0-logloss:0.660967\tvalidation_1-logloss:0.676309\n",
            "[476]\tvalidation_0-logloss:0.660961\tvalidation_1-logloss:0.676316\n",
            "[477]\tvalidation_0-logloss:0.660946\tvalidation_1-logloss:0.676324\n",
            "[478]\tvalidation_0-logloss:0.660935\tvalidation_1-logloss:0.676353\n",
            "[479]\tvalidation_0-logloss:0.66088\tvalidation_1-logloss:0.676342\n",
            "[480]\tvalidation_0-logloss:0.660856\tvalidation_1-logloss:0.676364\n",
            "[481]\tvalidation_0-logloss:0.660836\tvalidation_1-logloss:0.676371\n",
            "[482]\tvalidation_0-logloss:0.660762\tvalidation_1-logloss:0.676319\n",
            "[483]\tvalidation_0-logloss:0.660691\tvalidation_1-logloss:0.676225\n",
            "[484]\tvalidation_0-logloss:0.660716\tvalidation_1-logloss:0.676342\n",
            "[485]\tvalidation_0-logloss:0.660687\tvalidation_1-logloss:0.676351\n",
            "[486]\tvalidation_0-logloss:0.660674\tvalidation_1-logloss:0.676367\n",
            "[487]\tvalidation_0-logloss:0.660653\tvalidation_1-logloss:0.676377\n",
            "[488]\tvalidation_0-logloss:0.660634\tvalidation_1-logloss:0.676374\n",
            "[489]\tvalidation_0-logloss:0.660602\tvalidation_1-logloss:0.676369\n",
            "[490]\tvalidation_0-logloss:0.660571\tvalidation_1-logloss:0.676388\n",
            "[491]\tvalidation_0-logloss:0.660497\tvalidation_1-logloss:0.676275\n",
            "[492]\tvalidation_0-logloss:0.660472\tvalidation_1-logloss:0.676293\n",
            "[493]\tvalidation_0-logloss:0.660475\tvalidation_1-logloss:0.676419\n",
            "[494]\tvalidation_0-logloss:0.660454\tvalidation_1-logloss:0.676429\n",
            "[495]\tvalidation_0-logloss:0.660385\tvalidation_1-logloss:0.676301\n",
            "[496]\tvalidation_0-logloss:0.660412\tvalidation_1-logloss:0.676394\n",
            "[497]\tvalidation_0-logloss:0.660354\tvalidation_1-logloss:0.676364\n",
            "[498]\tvalidation_0-logloss:0.660348\tvalidation_1-logloss:0.676375\n",
            "[499]\tvalidation_0-logloss:0.660332\tvalidation_1-logloss:0.676393\n",
            "[500]\tvalidation_0-logloss:0.66031\tvalidation_1-logloss:0.676404\n",
            "[501]\tvalidation_0-logloss:0.660284\tvalidation_1-logloss:0.676409\n",
            "[502]\tvalidation_0-logloss:0.66028\tvalidation_1-logloss:0.676459\n",
            "[503]\tvalidation_0-logloss:0.660225\tvalidation_1-logloss:0.676475\n",
            "[504]\tvalidation_0-logloss:0.660204\tvalidation_1-logloss:0.676486\n",
            "[505]\tvalidation_0-logloss:0.660177\tvalidation_1-logloss:0.676505\n",
            "[506]\tvalidation_0-logloss:0.660165\tvalidation_1-logloss:0.676474\n",
            "[507]\tvalidation_0-logloss:0.66015\tvalidation_1-logloss:0.676481\n",
            "[508]\tvalidation_0-logloss:0.660148\tvalidation_1-logloss:0.6765\n",
            "[509]\tvalidation_0-logloss:0.660097\tvalidation_1-logloss:0.676516\n",
            "[510]\tvalidation_0-logloss:0.660081\tvalidation_1-logloss:0.676535\n",
            "[511]\tvalidation_0-logloss:0.660078\tvalidation_1-logloss:0.676544\n",
            "[512]\tvalidation_0-logloss:0.660061\tvalidation_1-logloss:0.676544\n",
            "[513]\tvalidation_0-logloss:0.66003\tvalidation_1-logloss:0.676548\n",
            "[514]\tvalidation_0-logloss:0.660019\tvalidation_1-logloss:0.676558\n",
            "[515]\tvalidation_0-logloss:0.659988\tvalidation_1-logloss:0.676552\n",
            "[516]\tvalidation_0-logloss:0.659976\tvalidation_1-logloss:0.67659\n",
            "[517]\tvalidation_0-logloss:0.65995\tvalidation_1-logloss:0.676593\n",
            "[518]\tvalidation_0-logloss:0.659925\tvalidation_1-logloss:0.676609\n",
            "[519]\tvalidation_0-logloss:0.659918\tvalidation_1-logloss:0.676612\n",
            "[520]\tvalidation_0-logloss:0.659885\tvalidation_1-logloss:0.676613\n",
            "[521]\tvalidation_0-logloss:0.659864\tvalidation_1-logloss:0.676627\n",
            "[522]\tvalidation_0-logloss:0.659848\tvalidation_1-logloss:0.676629\n",
            "[523]\tvalidation_0-logloss:0.659838\tvalidation_1-logloss:0.676634\n",
            "[524]\tvalidation_0-logloss:0.659834\tvalidation_1-logloss:0.676634\n",
            "[525]\tvalidation_0-logloss:0.659817\tvalidation_1-logloss:0.676643\n",
            "[526]\tvalidation_0-logloss:0.659789\tvalidation_1-logloss:0.676665\n",
            "[527]\tvalidation_0-logloss:0.659757\tvalidation_1-logloss:0.676663\n",
            "[528]\tvalidation_0-logloss:0.659749\tvalidation_1-logloss:0.676661\n",
            "[529]\tvalidation_0-logloss:0.659723\tvalidation_1-logloss:0.676672\n",
            "[530]\tvalidation_0-logloss:0.659713\tvalidation_1-logloss:0.676675\n",
            "[531]\tvalidation_0-logloss:0.659706\tvalidation_1-logloss:0.67668\n",
            "[532]\tvalidation_0-logloss:0.659688\tvalidation_1-logloss:0.676697\n",
            "[533]\tvalidation_0-logloss:0.659651\tvalidation_1-logloss:0.676696\n",
            "[534]\tvalidation_0-logloss:0.65962\tvalidation_1-logloss:0.676713\n",
            "[535]\tvalidation_0-logloss:0.659605\tvalidation_1-logloss:0.676724\n",
            "[536]\tvalidation_0-logloss:0.659587\tvalidation_1-logloss:0.676735\n",
            "[537]\tvalidation_0-logloss:0.659549\tvalidation_1-logloss:0.676766\n",
            "[538]\tvalidation_0-logloss:0.659544\tvalidation_1-logloss:0.676769\n",
            "[539]\tvalidation_0-logloss:0.659527\tvalidation_1-logloss:0.676778\n",
            "[540]\tvalidation_0-logloss:0.659482\tvalidation_1-logloss:0.676782\n",
            "[541]\tvalidation_0-logloss:0.659437\tvalidation_1-logloss:0.676774\n",
            "[542]\tvalidation_0-logloss:0.659409\tvalidation_1-logloss:0.676782\n",
            "[543]\tvalidation_0-logloss:0.659381\tvalidation_1-logloss:0.6768\n",
            "[544]\tvalidation_0-logloss:0.659346\tvalidation_1-logloss:0.676804\n",
            "[545]\tvalidation_0-logloss:0.659334\tvalidation_1-logloss:0.676707\n",
            "[546]\tvalidation_0-logloss:0.659346\tvalidation_1-logloss:0.676846\n",
            "[547]\tvalidation_0-logloss:0.659334\tvalidation_1-logloss:0.676858\n",
            "[548]\tvalidation_0-logloss:0.659276\tvalidation_1-logloss:0.676814\n",
            "[549]\tvalidation_0-logloss:0.659261\tvalidation_1-logloss:0.676822\n",
            "[550]\tvalidation_0-logloss:0.659257\tvalidation_1-logloss:0.676822\n",
            "[551]\tvalidation_0-logloss:0.659234\tvalidation_1-logloss:0.67683\n",
            "[552]\tvalidation_0-logloss:0.659216\tvalidation_1-logloss:0.676839\n",
            "[553]\tvalidation_0-logloss:0.659207\tvalidation_1-logloss:0.676836\n",
            "[554]\tvalidation_0-logloss:0.659203\tvalidation_1-logloss:0.676838\n",
            "[555]\tvalidation_0-logloss:0.659199\tvalidation_1-logloss:0.676848\n",
            "[556]\tvalidation_0-logloss:0.659169\tvalidation_1-logloss:0.676851\n",
            "[557]\tvalidation_0-logloss:0.659156\tvalidation_1-logloss:0.676862\n",
            "[558]\tvalidation_0-logloss:0.659132\tvalidation_1-logloss:0.676866\n",
            "[559]\tvalidation_0-logloss:0.659105\tvalidation_1-logloss:0.676881\n",
            "[560]\tvalidation_0-logloss:0.659092\tvalidation_1-logloss:0.676875\n",
            "[561]\tvalidation_0-logloss:0.659087\tvalidation_1-logloss:0.676877\n",
            "[562]\tvalidation_0-logloss:0.659083\tvalidation_1-logloss:0.676876\n",
            "[563]\tvalidation_0-logloss:0.659081\tvalidation_1-logloss:0.676875\n",
            "[564]\tvalidation_0-logloss:0.659065\tvalidation_1-logloss:0.676882\n",
            "[565]\tvalidation_0-logloss:0.659059\tvalidation_1-logloss:0.676886\n",
            "[566]\tvalidation_0-logloss:0.659058\tvalidation_1-logloss:0.676889\n",
            "[567]\tvalidation_0-logloss:0.659048\tvalidation_1-logloss:0.676928\n",
            "[568]\tvalidation_0-logloss:0.65898\tvalidation_1-logloss:0.676903\n",
            "[569]\tvalidation_0-logloss:0.658999\tvalidation_1-logloss:0.676936\n",
            "[570]\tvalidation_0-logloss:0.65898\tvalidation_1-logloss:0.676932\n",
            "[571]\tvalidation_0-logloss:0.65896\tvalidation_1-logloss:0.67697\n",
            "[572]\tvalidation_0-logloss:0.658924\tvalidation_1-logloss:0.676954\n",
            "[573]\tvalidation_0-logloss:0.658905\tvalidation_1-logloss:0.676961\n",
            "[574]\tvalidation_0-logloss:0.658881\tvalidation_1-logloss:0.676983\n",
            "[575]\tvalidation_0-logloss:0.658851\tvalidation_1-logloss:0.676993\n",
            "[576]\tvalidation_0-logloss:0.658826\tvalidation_1-logloss:0.677023\n",
            "[577]\tvalidation_0-logloss:0.658806\tvalidation_1-logloss:0.67702\n",
            "[578]\tvalidation_0-logloss:0.658763\tvalidation_1-logloss:0.677015\n",
            "[579]\tvalidation_0-logloss:0.658742\tvalidation_1-logloss:0.677026\n",
            "[580]\tvalidation_0-logloss:0.658717\tvalidation_1-logloss:0.677033\n",
            "[581]\tvalidation_0-logloss:0.658674\tvalidation_1-logloss:0.677035\n",
            "[582]\tvalidation_0-logloss:0.658691\tvalidation_1-logloss:0.677073\n",
            "[583]\tvalidation_0-logloss:0.658655\tvalidation_1-logloss:0.677072\n",
            "[584]\tvalidation_0-logloss:0.658618\tvalidation_1-logloss:0.67708\n",
            "[585]\tvalidation_0-logloss:0.658625\tvalidation_1-logloss:0.677105\n",
            "[586]\tvalidation_0-logloss:0.658617\tvalidation_1-logloss:0.677111\n",
            "[587]\tvalidation_0-logloss:0.658613\tvalidation_1-logloss:0.677106\n",
            "[588]\tvalidation_0-logloss:0.658577\tvalidation_1-logloss:0.677083\n",
            "[589]\tvalidation_0-logloss:0.65856\tvalidation_1-logloss:0.677091\n",
            "[590]\tvalidation_0-logloss:0.658523\tvalidation_1-logloss:0.677093\n",
            "[591]\tvalidation_0-logloss:0.658503\tvalidation_1-logloss:0.677103\n",
            "[592]\tvalidation_0-logloss:0.658496\tvalidation_1-logloss:0.677108\n",
            "[593]\tvalidation_0-logloss:0.658479\tvalidation_1-logloss:0.677112\n",
            "[594]\tvalidation_0-logloss:0.658453\tvalidation_1-logloss:0.677122\n",
            "[595]\tvalidation_0-logloss:0.658431\tvalidation_1-logloss:0.677123\n",
            "[596]\tvalidation_0-logloss:0.658416\tvalidation_1-logloss:0.677138\n",
            "[597]\tvalidation_0-logloss:0.658411\tvalidation_1-logloss:0.67714\n",
            "[598]\tvalidation_0-logloss:0.658388\tvalidation_1-logloss:0.677149\n",
            "[599]\tvalidation_0-logloss:0.658366\tvalidation_1-logloss:0.677159\n",
            "[600]\tvalidation_0-logloss:0.658333\tvalidation_1-logloss:0.67717\n",
            "[601]\tvalidation_0-logloss:0.658286\tvalidation_1-logloss:0.677179\n",
            "[602]\tvalidation_0-logloss:0.658273\tvalidation_1-logloss:0.677191\n",
            "[603]\tvalidation_0-logloss:0.658257\tvalidation_1-logloss:0.677182\n",
            "[604]\tvalidation_0-logloss:0.658249\tvalidation_1-logloss:0.677189\n",
            "[605]\tvalidation_0-logloss:0.658243\tvalidation_1-logloss:0.677203\n",
            "[606]\tvalidation_0-logloss:0.658228\tvalidation_1-logloss:0.677221\n",
            "[607]\tvalidation_0-logloss:0.658204\tvalidation_1-logloss:0.677242\n",
            "[608]\tvalidation_0-logloss:0.658166\tvalidation_1-logloss:0.677262\n",
            "[609]\tvalidation_0-logloss:0.65816\tvalidation_1-logloss:0.677268\n",
            "[610]\tvalidation_0-logloss:0.658145\tvalidation_1-logloss:0.677286\n",
            "[611]\tvalidation_0-logloss:0.658125\tvalidation_1-logloss:0.67728\n",
            "[612]\tvalidation_0-logloss:0.658091\tvalidation_1-logloss:0.6773\n",
            "[613]\tvalidation_0-logloss:0.658084\tvalidation_1-logloss:0.677302\n",
            "[614]\tvalidation_0-logloss:0.658072\tvalidation_1-logloss:0.677305\n",
            "[615]\tvalidation_0-logloss:0.658064\tvalidation_1-logloss:0.677317\n",
            "[616]\tvalidation_0-logloss:0.658047\tvalidation_1-logloss:0.677324\n",
            "[617]\tvalidation_0-logloss:0.658013\tvalidation_1-logloss:0.677327\n",
            "[618]\tvalidation_0-logloss:0.657988\tvalidation_1-logloss:0.677331\n",
            "[619]\tvalidation_0-logloss:0.657958\tvalidation_1-logloss:0.677345\n",
            "[620]\tvalidation_0-logloss:0.657932\tvalidation_1-logloss:0.677361\n",
            "[621]\tvalidation_0-logloss:0.657919\tvalidation_1-logloss:0.677362\n",
            "[622]\tvalidation_0-logloss:0.657894\tvalidation_1-logloss:0.677364\n",
            "[623]\tvalidation_0-logloss:0.657886\tvalidation_1-logloss:0.677376\n",
            "[624]\tvalidation_0-logloss:0.657869\tvalidation_1-logloss:0.677383\n",
            "[625]\tvalidation_0-logloss:0.65786\tvalidation_1-logloss:0.677387\n",
            "[626]\tvalidation_0-logloss:0.657854\tvalidation_1-logloss:0.677394\n",
            "[627]\tvalidation_0-logloss:0.657838\tvalidation_1-logloss:0.677406\n",
            "[628]\tvalidation_0-logloss:0.65781\tvalidation_1-logloss:0.677402\n",
            "[629]\tvalidation_0-logloss:0.657783\tvalidation_1-logloss:0.677424\n",
            "[630]\tvalidation_0-logloss:0.657761\tvalidation_1-logloss:0.677433\n",
            "[631]\tvalidation_0-logloss:0.657746\tvalidation_1-logloss:0.677445\n",
            "[632]\tvalidation_0-logloss:0.657725\tvalidation_1-logloss:0.677428\n",
            "[633]\tvalidation_0-logloss:0.657721\tvalidation_1-logloss:0.67743\n",
            "[634]\tvalidation_0-logloss:0.657702\tvalidation_1-logloss:0.677454\n",
            "[635]\tvalidation_0-logloss:0.657664\tvalidation_1-logloss:0.677459\n",
            "[636]\tvalidation_0-logloss:0.657646\tvalidation_1-logloss:0.677467\n",
            "[637]\tvalidation_0-logloss:0.657616\tvalidation_1-logloss:0.677481\n",
            "[638]\tvalidation_0-logloss:0.657601\tvalidation_1-logloss:0.677497\n",
            "[639]\tvalidation_0-logloss:0.657586\tvalidation_1-logloss:0.677506\n",
            "[640]\tvalidation_0-logloss:0.657572\tvalidation_1-logloss:0.677518\n",
            "[641]\tvalidation_0-logloss:0.657559\tvalidation_1-logloss:0.677521\n",
            "[642]\tvalidation_0-logloss:0.657525\tvalidation_1-logloss:0.677506\n",
            "[643]\tvalidation_0-logloss:0.657492\tvalidation_1-logloss:0.677509\n",
            "[644]\tvalidation_0-logloss:0.657454\tvalidation_1-logloss:0.67751\n",
            "[645]\tvalidation_0-logloss:0.65743\tvalidation_1-logloss:0.677514\n",
            "[646]\tvalidation_0-logloss:0.657416\tvalidation_1-logloss:0.677518\n",
            "[647]\tvalidation_0-logloss:0.657406\tvalidation_1-logloss:0.677523\n",
            "[648]\tvalidation_0-logloss:0.657393\tvalidation_1-logloss:0.67754\n",
            "[649]\tvalidation_0-logloss:0.65738\tvalidation_1-logloss:0.677557\n",
            "[650]\tvalidation_0-logloss:0.657375\tvalidation_1-logloss:0.677586\n",
            "[651]\tvalidation_0-logloss:0.657334\tvalidation_1-logloss:0.677591\n",
            "[652]\tvalidation_0-logloss:0.657286\tvalidation_1-logloss:0.677548\n",
            "[653]\tvalidation_0-logloss:0.657278\tvalidation_1-logloss:0.677548\n",
            "[654]\tvalidation_0-logloss:0.657257\tvalidation_1-logloss:0.677545\n",
            "[655]\tvalidation_0-logloss:0.657245\tvalidation_1-logloss:0.67756\n",
            "[656]\tvalidation_0-logloss:0.657221\tvalidation_1-logloss:0.677566\n",
            "[657]\tvalidation_0-logloss:0.65717\tvalidation_1-logloss:0.677562\n",
            "[658]\tvalidation_0-logloss:0.657127\tvalidation_1-logloss:0.677537\n",
            "[659]\tvalidation_0-logloss:0.657089\tvalidation_1-logloss:0.67756\n",
            "[660]\tvalidation_0-logloss:0.657079\tvalidation_1-logloss:0.677571\n",
            "[661]\tvalidation_0-logloss:0.657078\tvalidation_1-logloss:0.677605\n",
            "[662]\tvalidation_0-logloss:0.657007\tvalidation_1-logloss:0.677555\n",
            "[663]\tvalidation_0-logloss:0.656983\tvalidation_1-logloss:0.677571\n",
            "[664]\tvalidation_0-logloss:0.656951\tvalidation_1-logloss:0.677568\n",
            "[665]\tvalidation_0-logloss:0.656943\tvalidation_1-logloss:0.677602\n",
            "[666]\tvalidation_0-logloss:0.656931\tvalidation_1-logloss:0.677612\n",
            "[667]\tvalidation_0-logloss:0.656918\tvalidation_1-logloss:0.677617\n",
            "[668]\tvalidation_0-logloss:0.656889\tvalidation_1-logloss:0.677636\n",
            "[669]\tvalidation_0-logloss:0.656863\tvalidation_1-logloss:0.677639\n",
            "[670]\tvalidation_0-logloss:0.656858\tvalidation_1-logloss:0.677619\n",
            "[671]\tvalidation_0-logloss:0.656838\tvalidation_1-logloss:0.677644\n",
            "[672]\tvalidation_0-logloss:0.656813\tvalidation_1-logloss:0.677658\n",
            "[673]\tvalidation_0-logloss:0.656789\tvalidation_1-logloss:0.677659\n",
            "[674]\tvalidation_0-logloss:0.656767\tvalidation_1-logloss:0.677669\n",
            "[675]\tvalidation_0-logloss:0.656737\tvalidation_1-logloss:0.677679\n",
            "[676]\tvalidation_0-logloss:0.656737\tvalidation_1-logloss:0.677681\n",
            "[677]\tvalidation_0-logloss:0.656707\tvalidation_1-logloss:0.6777\n",
            "[678]\tvalidation_0-logloss:0.656687\tvalidation_1-logloss:0.677712\n",
            "[679]\tvalidation_0-logloss:0.656657\tvalidation_1-logloss:0.677709\n",
            "[680]\tvalidation_0-logloss:0.656654\tvalidation_1-logloss:0.677709\n",
            "[681]\tvalidation_0-logloss:0.656641\tvalidation_1-logloss:0.677713\n",
            "[682]\tvalidation_0-logloss:0.656623\tvalidation_1-logloss:0.677715\n",
            "[683]\tvalidation_0-logloss:0.656591\tvalidation_1-logloss:0.677726\n",
            "[684]\tvalidation_0-logloss:0.656567\tvalidation_1-logloss:0.677729\n",
            "[685]\tvalidation_0-logloss:0.656557\tvalidation_1-logloss:0.677734\n",
            "[686]\tvalidation_0-logloss:0.656553\tvalidation_1-logloss:0.677734\n",
            "[687]\tvalidation_0-logloss:0.656539\tvalidation_1-logloss:0.677741\n",
            "[688]\tvalidation_0-logloss:0.656542\tvalidation_1-logloss:0.677734\n",
            "[689]\tvalidation_0-logloss:0.65651\tvalidation_1-logloss:0.677737\n",
            "[690]\tvalidation_0-logloss:0.656502\tvalidation_1-logloss:0.677745\n",
            "[691]\tvalidation_0-logloss:0.656496\tvalidation_1-logloss:0.677753\n",
            "[692]\tvalidation_0-logloss:0.656429\tvalidation_1-logloss:0.677734\n",
            "[693]\tvalidation_0-logloss:0.656431\tvalidation_1-logloss:0.677734\n",
            "[694]\tvalidation_0-logloss:0.656391\tvalidation_1-logloss:0.677745\n",
            "[695]\tvalidation_0-logloss:0.65638\tvalidation_1-logloss:0.677749\n",
            "[696]\tvalidation_0-logloss:0.656363\tvalidation_1-logloss:0.67776\n",
            "[697]\tvalidation_0-logloss:0.656353\tvalidation_1-logloss:0.677767\n",
            "[698]\tvalidation_0-logloss:0.656338\tvalidation_1-logloss:0.67777\n",
            "[699]\tvalidation_0-logloss:0.656324\tvalidation_1-logloss:0.677783\n",
            "[700]\tvalidation_0-logloss:0.65631\tvalidation_1-logloss:0.67778\n",
            "[701]\tvalidation_0-logloss:0.656283\tvalidation_1-logloss:0.677811\n",
            "[702]\tvalidation_0-logloss:0.656252\tvalidation_1-logloss:0.677809\n",
            "[703]\tvalidation_0-logloss:0.656213\tvalidation_1-logloss:0.677822\n",
            "[704]\tvalidation_0-logloss:0.656193\tvalidation_1-logloss:0.677852\n",
            "[705]\tvalidation_0-logloss:0.656178\tvalidation_1-logloss:0.677852\n",
            "[706]\tvalidation_0-logloss:0.656144\tvalidation_1-logloss:0.677856\n",
            "[707]\tvalidation_0-logloss:0.65612\tvalidation_1-logloss:0.677876\n",
            "[708]\tvalidation_0-logloss:0.656098\tvalidation_1-logloss:0.677901\n",
            "[709]\tvalidation_0-logloss:0.656063\tvalidation_1-logloss:0.677916\n",
            "[710]\tvalidation_0-logloss:0.656056\tvalidation_1-logloss:0.677935\n",
            "[711]\tvalidation_0-logloss:0.656044\tvalidation_1-logloss:0.677945\n",
            "[712]\tvalidation_0-logloss:0.656025\tvalidation_1-logloss:0.67796\n",
            "[713]\tvalidation_0-logloss:0.656006\tvalidation_1-logloss:0.67797\n",
            "[714]\tvalidation_0-logloss:0.655997\tvalidation_1-logloss:0.677977\n",
            "[715]\tvalidation_0-logloss:0.655983\tvalidation_1-logloss:0.67798\n",
            "[716]\tvalidation_0-logloss:0.655981\tvalidation_1-logloss:0.67798\n",
            "[717]\tvalidation_0-logloss:0.655969\tvalidation_1-logloss:0.677974\n",
            "[718]\tvalidation_0-logloss:0.655938\tvalidation_1-logloss:0.677995\n",
            "[719]\tvalidation_0-logloss:0.655904\tvalidation_1-logloss:0.67801\n",
            "[720]\tvalidation_0-logloss:0.655892\tvalidation_1-logloss:0.678014\n",
            "[721]\tvalidation_0-logloss:0.655878\tvalidation_1-logloss:0.678024\n",
            "[722]\tvalidation_0-logloss:0.655851\tvalidation_1-logloss:0.678031\n",
            "[723]\tvalidation_0-logloss:0.655838\tvalidation_1-logloss:0.678053\n",
            "[724]\tvalidation_0-logloss:0.655817\tvalidation_1-logloss:0.678084\n",
            "[725]\tvalidation_0-logloss:0.6558\tvalidation_1-logloss:0.678097\n",
            "[726]\tvalidation_0-logloss:0.655782\tvalidation_1-logloss:0.678104\n",
            "[727]\tvalidation_0-logloss:0.655771\tvalidation_1-logloss:0.678114\n",
            "[728]\tvalidation_0-logloss:0.655754\tvalidation_1-logloss:0.678121\n",
            "[729]\tvalidation_0-logloss:0.655744\tvalidation_1-logloss:0.678133\n",
            "[730]\tvalidation_0-logloss:0.655722\tvalidation_1-logloss:0.678142\n",
            "[731]\tvalidation_0-logloss:0.655701\tvalidation_1-logloss:0.678145\n",
            "[732]\tvalidation_0-logloss:0.655686\tvalidation_1-logloss:0.678165\n",
            "[733]\tvalidation_0-logloss:0.65567\tvalidation_1-logloss:0.678174\n",
            "[734]\tvalidation_0-logloss:0.655661\tvalidation_1-logloss:0.678184\n",
            "[735]\tvalidation_0-logloss:0.655641\tvalidation_1-logloss:0.67819\n",
            "[736]\tvalidation_0-logloss:0.655628\tvalidation_1-logloss:0.678198\n",
            "[737]\tvalidation_0-logloss:0.655622\tvalidation_1-logloss:0.678204\n",
            "[738]\tvalidation_0-logloss:0.65562\tvalidation_1-logloss:0.678206\n",
            "[739]\tvalidation_0-logloss:0.6556\tvalidation_1-logloss:0.678216\n",
            "[740]\tvalidation_0-logloss:0.655571\tvalidation_1-logloss:0.67823\n",
            "[741]\tvalidation_0-logloss:0.655546\tvalidation_1-logloss:0.678233\n",
            "[742]\tvalidation_0-logloss:0.65553\tvalidation_1-logloss:0.678235\n",
            "[743]\tvalidation_0-logloss:0.655513\tvalidation_1-logloss:0.678243\n",
            "[744]\tvalidation_0-logloss:0.655488\tvalidation_1-logloss:0.678254\n",
            "[745]\tvalidation_0-logloss:0.655459\tvalidation_1-logloss:0.678275\n",
            "[746]\tvalidation_0-logloss:0.655452\tvalidation_1-logloss:0.678278\n",
            "[747]\tvalidation_0-logloss:0.655435\tvalidation_1-logloss:0.678293\n",
            "[748]\tvalidation_0-logloss:0.655414\tvalidation_1-logloss:0.678314\n",
            "[749]\tvalidation_0-logloss:0.655404\tvalidation_1-logloss:0.678319\n",
            "[750]\tvalidation_0-logloss:0.655389\tvalidation_1-logloss:0.67832\n",
            "[751]\tvalidation_0-logloss:0.655367\tvalidation_1-logloss:0.678326\n",
            "[752]\tvalidation_0-logloss:0.655343\tvalidation_1-logloss:0.678328\n",
            "[753]\tvalidation_0-logloss:0.655314\tvalidation_1-logloss:0.678342\n",
            "[754]\tvalidation_0-logloss:0.655292\tvalidation_1-logloss:0.678362\n",
            "[755]\tvalidation_0-logloss:0.655289\tvalidation_1-logloss:0.67836\n",
            "[756]\tvalidation_0-logloss:0.655273\tvalidation_1-logloss:0.678374\n",
            "[757]\tvalidation_0-logloss:0.655271\tvalidation_1-logloss:0.678373\n",
            "[758]\tvalidation_0-logloss:0.655262\tvalidation_1-logloss:0.678378\n",
            "[759]\tvalidation_0-logloss:0.655232\tvalidation_1-logloss:0.678385\n",
            "[760]\tvalidation_0-logloss:0.655192\tvalidation_1-logloss:0.678373\n",
            "[761]\tvalidation_0-logloss:0.655176\tvalidation_1-logloss:0.67839\n",
            "[762]\tvalidation_0-logloss:0.655153\tvalidation_1-logloss:0.678396\n",
            "[763]\tvalidation_0-logloss:0.655138\tvalidation_1-logloss:0.678395\n",
            "[764]\tvalidation_0-logloss:0.655127\tvalidation_1-logloss:0.678409\n",
            "[765]\tvalidation_0-logloss:0.655123\tvalidation_1-logloss:0.678409\n",
            "[766]\tvalidation_0-logloss:0.6551\tvalidation_1-logloss:0.678433\n",
            "[767]\tvalidation_0-logloss:0.655066\tvalidation_1-logloss:0.678438\n",
            "[768]\tvalidation_0-logloss:0.655072\tvalidation_1-logloss:0.678435\n",
            "[769]\tvalidation_0-logloss:0.655053\tvalidation_1-logloss:0.678448\n",
            "[770]\tvalidation_0-logloss:0.655033\tvalidation_1-logloss:0.678478\n",
            "[771]\tvalidation_0-logloss:0.655028\tvalidation_1-logloss:0.678475\n",
            "[772]\tvalidation_0-logloss:0.655014\tvalidation_1-logloss:0.678482\n",
            "[773]\tvalidation_0-logloss:0.654999\tvalidation_1-logloss:0.678524\n",
            "[774]\tvalidation_0-logloss:0.655014\tvalidation_1-logloss:0.678517\n",
            "[775]\tvalidation_0-logloss:0.65498\tvalidation_1-logloss:0.678537\n",
            "[776]\tvalidation_0-logloss:0.654962\tvalidation_1-logloss:0.678549\n",
            "[777]\tvalidation_0-logloss:0.65495\tvalidation_1-logloss:0.678561\n",
            "[778]\tvalidation_0-logloss:0.654944\tvalidation_1-logloss:0.678564\n",
            "[779]\tvalidation_0-logloss:0.654936\tvalidation_1-logloss:0.678574\n",
            "[780]\tvalidation_0-logloss:0.654918\tvalidation_1-logloss:0.678584\n",
            "[781]\tvalidation_0-logloss:0.654897\tvalidation_1-logloss:0.678593\n",
            "[782]\tvalidation_0-logloss:0.654889\tvalidation_1-logloss:0.6786\n",
            "[783]\tvalidation_0-logloss:0.65488\tvalidation_1-logloss:0.678608\n",
            "[784]\tvalidation_0-logloss:0.654859\tvalidation_1-logloss:0.67861\n",
            "[785]\tvalidation_0-logloss:0.654818\tvalidation_1-logloss:0.678608\n",
            "[786]\tvalidation_0-logloss:0.654814\tvalidation_1-logloss:0.678611\n",
            "[787]\tvalidation_0-logloss:0.654802\tvalidation_1-logloss:0.678618\n",
            "[788]\tvalidation_0-logloss:0.654791\tvalidation_1-logloss:0.678623\n",
            "[789]\tvalidation_0-logloss:0.654807\tvalidation_1-logloss:0.678625\n",
            "[790]\tvalidation_0-logloss:0.654803\tvalidation_1-logloss:0.678623\n",
            "[791]\tvalidation_0-logloss:0.654795\tvalidation_1-logloss:0.678624\n",
            "[792]\tvalidation_0-logloss:0.65478\tvalidation_1-logloss:0.678627\n",
            "[793]\tvalidation_0-logloss:0.654777\tvalidation_1-logloss:0.678632\n",
            "[794]\tvalidation_0-logloss:0.654763\tvalidation_1-logloss:0.678641\n",
            "[795]\tvalidation_0-logloss:0.654744\tvalidation_1-logloss:0.678647\n",
            "[796]\tvalidation_0-logloss:0.654739\tvalidation_1-logloss:0.67865\n",
            "[797]\tvalidation_0-logloss:0.654718\tvalidation_1-logloss:0.678689\n",
            "[798]\tvalidation_0-logloss:0.654697\tvalidation_1-logloss:0.678698\n",
            "[799]\tvalidation_0-logloss:0.654665\tvalidation_1-logloss:0.678683\n",
            "[800]\tvalidation_0-logloss:0.654634\tvalidation_1-logloss:0.678676\n",
            "[801]\tvalidation_0-logloss:0.654613\tvalidation_1-logloss:0.678695\n",
            "[802]\tvalidation_0-logloss:0.654589\tvalidation_1-logloss:0.678685\n",
            "[803]\tvalidation_0-logloss:0.654564\tvalidation_1-logloss:0.6787\n",
            "[804]\tvalidation_0-logloss:0.654549\tvalidation_1-logloss:0.678718\n",
            "[805]\tvalidation_0-logloss:0.654536\tvalidation_1-logloss:0.678721\n",
            "[806]\tvalidation_0-logloss:0.654525\tvalidation_1-logloss:0.678781\n",
            "[807]\tvalidation_0-logloss:0.654516\tvalidation_1-logloss:0.678809\n",
            "[808]\tvalidation_0-logloss:0.654496\tvalidation_1-logloss:0.678817\n",
            "[809]\tvalidation_0-logloss:0.654475\tvalidation_1-logloss:0.678801\n",
            "[810]\tvalidation_0-logloss:0.654457\tvalidation_1-logloss:0.678808\n",
            "[811]\tvalidation_0-logloss:0.65445\tvalidation_1-logloss:0.678807\n",
            "[812]\tvalidation_0-logloss:0.654445\tvalidation_1-logloss:0.678812\n",
            "[813]\tvalidation_0-logloss:0.65443\tvalidation_1-logloss:0.678824\n",
            "[814]\tvalidation_0-logloss:0.65442\tvalidation_1-logloss:0.678832\n",
            "[815]\tvalidation_0-logloss:0.65441\tvalidation_1-logloss:0.678842\n",
            "[816]\tvalidation_0-logloss:0.654394\tvalidation_1-logloss:0.678853\n",
            "[817]\tvalidation_0-logloss:0.654388\tvalidation_1-logloss:0.678855\n",
            "[818]\tvalidation_0-logloss:0.654377\tvalidation_1-logloss:0.678865\n",
            "[819]\tvalidation_0-logloss:0.654342\tvalidation_1-logloss:0.67886\n",
            "[820]\tvalidation_0-logloss:0.654331\tvalidation_1-logloss:0.678901\n",
            "[821]\tvalidation_0-logloss:0.654273\tvalidation_1-logloss:0.678843\n",
            "[822]\tvalidation_0-logloss:0.654266\tvalidation_1-logloss:0.678848\n",
            "[823]\tvalidation_0-logloss:0.654245\tvalidation_1-logloss:0.678859\n",
            "[824]\tvalidation_0-logloss:0.654213\tvalidation_1-logloss:0.678859\n",
            "[825]\tvalidation_0-logloss:0.65421\tvalidation_1-logloss:0.678857\n",
            "[826]\tvalidation_0-logloss:0.654182\tvalidation_1-logloss:0.678836\n",
            "[827]\tvalidation_0-logloss:0.654201\tvalidation_1-logloss:0.678855\n",
            "[828]\tvalidation_0-logloss:0.654181\tvalidation_1-logloss:0.678862\n",
            "[829]\tvalidation_0-logloss:0.654156\tvalidation_1-logloss:0.678872\n",
            "[830]\tvalidation_0-logloss:0.654148\tvalidation_1-logloss:0.678876\n",
            "[831]\tvalidation_0-logloss:0.65411\tvalidation_1-logloss:0.678877\n",
            "[832]\tvalidation_0-logloss:0.654096\tvalidation_1-logloss:0.678882\n",
            "[833]\tvalidation_0-logloss:0.654086\tvalidation_1-logloss:0.67889\n",
            "[834]\tvalidation_0-logloss:0.654065\tvalidation_1-logloss:0.678895\n",
            "[835]\tvalidation_0-logloss:0.654022\tvalidation_1-logloss:0.67894\n",
            "[836]\tvalidation_0-logloss:0.654018\tvalidation_1-logloss:0.67894\n",
            "[837]\tvalidation_0-logloss:0.65399\tvalidation_1-logloss:0.678918\n",
            "[838]\tvalidation_0-logloss:0.653987\tvalidation_1-logloss:0.678916\n",
            "[839]\tvalidation_0-logloss:0.653976\tvalidation_1-logloss:0.678968\n",
            "[840]\tvalidation_0-logloss:0.653972\tvalidation_1-logloss:0.678974\n",
            "[841]\tvalidation_0-logloss:0.653944\tvalidation_1-logloss:0.678943\n",
            "[842]\tvalidation_0-logloss:0.653938\tvalidation_1-logloss:0.678984\n",
            "[843]\tvalidation_0-logloss:0.653907\tvalidation_1-logloss:0.678962\n",
            "[844]\tvalidation_0-logloss:0.653895\tvalidation_1-logloss:0.678998\n",
            "[845]\tvalidation_0-logloss:0.65388\tvalidation_1-logloss:0.679002\n",
            "[846]\tvalidation_0-logloss:0.653854\tvalidation_1-logloss:0.678978\n",
            "[847]\tvalidation_0-logloss:0.653847\tvalidation_1-logloss:0.678982\n",
            "[848]\tvalidation_0-logloss:0.653815\tvalidation_1-logloss:0.678966\n",
            "[849]\tvalidation_0-logloss:0.65379\tvalidation_1-logloss:0.679005\n",
            "[850]\tvalidation_0-logloss:0.653781\tvalidation_1-logloss:0.679012\n",
            "[851]\tvalidation_0-logloss:0.653783\tvalidation_1-logloss:0.679013\n",
            "[852]\tvalidation_0-logloss:0.653763\tvalidation_1-logloss:0.679025\n",
            "[853]\tvalidation_0-logloss:0.653756\tvalidation_1-logloss:0.67904\n",
            "[854]\tvalidation_0-logloss:0.653739\tvalidation_1-logloss:0.67904\n",
            "[855]\tvalidation_0-logloss:0.653708\tvalidation_1-logloss:0.67903\n",
            "[856]\tvalidation_0-logloss:0.653682\tvalidation_1-logloss:0.67904\n",
            "[857]\tvalidation_0-logloss:0.653627\tvalidation_1-logloss:0.679036\n",
            "[858]\tvalidation_0-logloss:0.653617\tvalidation_1-logloss:0.679038\n",
            "[859]\tvalidation_0-logloss:0.653607\tvalidation_1-logloss:0.679042\n",
            "[860]\tvalidation_0-logloss:0.653569\tvalidation_1-logloss:0.67903\n",
            "[861]\tvalidation_0-logloss:0.65356\tvalidation_1-logloss:0.679043\n",
            "[862]\tvalidation_0-logloss:0.653548\tvalidation_1-logloss:0.679047\n",
            "[863]\tvalidation_0-logloss:0.653538\tvalidation_1-logloss:0.679048\n",
            "[864]\tvalidation_0-logloss:0.653527\tvalidation_1-logloss:0.679053\n",
            "[865]\tvalidation_0-logloss:0.653524\tvalidation_1-logloss:0.679058\n",
            "[866]\tvalidation_0-logloss:0.653538\tvalidation_1-logloss:0.679051\n",
            "[867]\tvalidation_0-logloss:0.653501\tvalidation_1-logloss:0.679071\n",
            "[868]\tvalidation_0-logloss:0.653487\tvalidation_1-logloss:0.679087\n",
            "[869]\tvalidation_0-logloss:0.653488\tvalidation_1-logloss:0.679074\n",
            "[870]\tvalidation_0-logloss:0.653467\tvalidation_1-logloss:0.679106\n",
            "[871]\tvalidation_0-logloss:0.653456\tvalidation_1-logloss:0.67912\n",
            "[872]\tvalidation_0-logloss:0.653433\tvalidation_1-logloss:0.679139\n",
            "[873]\tvalidation_0-logloss:0.653416\tvalidation_1-logloss:0.679149\n",
            "[874]\tvalidation_0-logloss:0.653394\tvalidation_1-logloss:0.679168\n",
            "[875]\tvalidation_0-logloss:0.65337\tvalidation_1-logloss:0.679158\n",
            "[876]\tvalidation_0-logloss:0.653355\tvalidation_1-logloss:0.679185\n",
            "[877]\tvalidation_0-logloss:0.653342\tvalidation_1-logloss:0.679189\n",
            "[878]\tvalidation_0-logloss:0.653317\tvalidation_1-logloss:0.679206\n",
            "[879]\tvalidation_0-logloss:0.653313\tvalidation_1-logloss:0.679206\n",
            "[880]\tvalidation_0-logloss:0.653295\tvalidation_1-logloss:0.679218\n",
            "[881]\tvalidation_0-logloss:0.653272\tvalidation_1-logloss:0.679218\n",
            "[882]\tvalidation_0-logloss:0.653249\tvalidation_1-logloss:0.679211\n",
            "[883]\tvalidation_0-logloss:0.653238\tvalidation_1-logloss:0.679217\n",
            "[884]\tvalidation_0-logloss:0.653186\tvalidation_1-logloss:0.679229\n",
            "[885]\tvalidation_0-logloss:0.653155\tvalidation_1-logloss:0.679257\n",
            "[886]\tvalidation_0-logloss:0.65315\tvalidation_1-logloss:0.67926\n",
            "[887]\tvalidation_0-logloss:0.65313\tvalidation_1-logloss:0.679277\n",
            "[888]\tvalidation_0-logloss:0.653109\tvalidation_1-logloss:0.679286\n",
            "[889]\tvalidation_0-logloss:0.653111\tvalidation_1-logloss:0.679263\n",
            "[890]\tvalidation_0-logloss:0.653102\tvalidation_1-logloss:0.679272\n",
            "[891]\tvalidation_0-logloss:0.653089\tvalidation_1-logloss:0.679277\n",
            "[892]\tvalidation_0-logloss:0.65306\tvalidation_1-logloss:0.6793\n",
            "[893]\tvalidation_0-logloss:0.653044\tvalidation_1-logloss:0.679304\n",
            "[894]\tvalidation_0-logloss:0.653022\tvalidation_1-logloss:0.679307\n",
            "[895]\tvalidation_0-logloss:0.653006\tvalidation_1-logloss:0.679315\n",
            "[896]\tvalidation_0-logloss:0.652989\tvalidation_1-logloss:0.679317\n",
            "[897]\tvalidation_0-logloss:0.652983\tvalidation_1-logloss:0.679335\n",
            "[898]\tvalidation_0-logloss:0.652972\tvalidation_1-logloss:0.679331\n",
            "[899]\tvalidation_0-logloss:0.652945\tvalidation_1-logloss:0.679336\n",
            "[900]\tvalidation_0-logloss:0.652918\tvalidation_1-logloss:0.679346\n",
            "[901]\tvalidation_0-logloss:0.652904\tvalidation_1-logloss:0.679349\n",
            "[902]\tvalidation_0-logloss:0.652889\tvalidation_1-logloss:0.679346\n",
            "[903]\tvalidation_0-logloss:0.65288\tvalidation_1-logloss:0.679353\n",
            "[904]\tvalidation_0-logloss:0.652857\tvalidation_1-logloss:0.679361\n",
            "[905]\tvalidation_0-logloss:0.65285\tvalidation_1-logloss:0.679361\n",
            "[906]\tvalidation_0-logloss:0.652842\tvalidation_1-logloss:0.67937\n",
            "[907]\tvalidation_0-logloss:0.652826\tvalidation_1-logloss:0.679379\n",
            "[908]\tvalidation_0-logloss:0.652823\tvalidation_1-logloss:0.679383\n",
            "[909]\tvalidation_0-logloss:0.652815\tvalidation_1-logloss:0.679385\n",
            "[910]\tvalidation_0-logloss:0.652781\tvalidation_1-logloss:0.679383\n",
            "[911]\tvalidation_0-logloss:0.652756\tvalidation_1-logloss:0.679385\n",
            "[912]\tvalidation_0-logloss:0.652749\tvalidation_1-logloss:0.679388\n",
            "[913]\tvalidation_0-logloss:0.652741\tvalidation_1-logloss:0.679395\n",
            "[914]\tvalidation_0-logloss:0.65273\tvalidation_1-logloss:0.679397\n",
            "[915]\tvalidation_0-logloss:0.652718\tvalidation_1-logloss:0.679408\n",
            "[916]\tvalidation_0-logloss:0.652703\tvalidation_1-logloss:0.679416\n",
            "[917]\tvalidation_0-logloss:0.652685\tvalidation_1-logloss:0.67942\n",
            "[918]\tvalidation_0-logloss:0.652671\tvalidation_1-logloss:0.679435\n",
            "[919]\tvalidation_0-logloss:0.652649\tvalidation_1-logloss:0.679441\n",
            "[920]\tvalidation_0-logloss:0.652638\tvalidation_1-logloss:0.679458\n",
            "[921]\tvalidation_0-logloss:0.652628\tvalidation_1-logloss:0.679464\n",
            "[922]\tvalidation_0-logloss:0.652628\tvalidation_1-logloss:0.679465\n",
            "[923]\tvalidation_0-logloss:0.652625\tvalidation_1-logloss:0.679465\n",
            "[924]\tvalidation_0-logloss:0.6526\tvalidation_1-logloss:0.679447\n",
            "[925]\tvalidation_0-logloss:0.652581\tvalidation_1-logloss:0.679465\n",
            "[926]\tvalidation_0-logloss:0.652554\tvalidation_1-logloss:0.67948\n",
            "[927]\tvalidation_0-logloss:0.652569\tvalidation_1-logloss:0.679489\n",
            "[928]\tvalidation_0-logloss:0.652559\tvalidation_1-logloss:0.679492\n",
            "[929]\tvalidation_0-logloss:0.652557\tvalidation_1-logloss:0.679496\n",
            "[930]\tvalidation_0-logloss:0.652532\tvalidation_1-logloss:0.679508\n",
            "[931]\tvalidation_0-logloss:0.652489\tvalidation_1-logloss:0.679506\n",
            "[932]\tvalidation_0-logloss:0.652472\tvalidation_1-logloss:0.679515\n",
            "[933]\tvalidation_0-logloss:0.652473\tvalidation_1-logloss:0.679538\n",
            "[934]\tvalidation_0-logloss:0.652448\tvalidation_1-logloss:0.679538\n",
            "[935]\tvalidation_0-logloss:0.652425\tvalidation_1-logloss:0.67954\n",
            "[936]\tvalidation_0-logloss:0.652412\tvalidation_1-logloss:0.679549\n",
            "[937]\tvalidation_0-logloss:0.652396\tvalidation_1-logloss:0.679557\n",
            "[938]\tvalidation_0-logloss:0.652388\tvalidation_1-logloss:0.679561\n",
            "[939]\tvalidation_0-logloss:0.652366\tvalidation_1-logloss:0.679576\n",
            "[940]\tvalidation_0-logloss:0.652352\tvalidation_1-logloss:0.67959\n",
            "[941]\tvalidation_0-logloss:0.652328\tvalidation_1-logloss:0.679594\n",
            "[942]\tvalidation_0-logloss:0.652316\tvalidation_1-logloss:0.67959\n",
            "[943]\tvalidation_0-logloss:0.652308\tvalidation_1-logloss:0.679587\n",
            "[944]\tvalidation_0-logloss:0.652305\tvalidation_1-logloss:0.679588\n",
            "[945]\tvalidation_0-logloss:0.652296\tvalidation_1-logloss:0.679584\n",
            "[946]\tvalidation_0-logloss:0.652276\tvalidation_1-logloss:0.679593\n",
            "[947]\tvalidation_0-logloss:0.652245\tvalidation_1-logloss:0.679599\n",
            "[948]\tvalidation_0-logloss:0.652237\tvalidation_1-logloss:0.679586\n",
            "[949]\tvalidation_0-logloss:0.652208\tvalidation_1-logloss:0.679576\n",
            "[950]\tvalidation_0-logloss:0.652205\tvalidation_1-logloss:0.679579\n",
            "[951]\tvalidation_0-logloss:0.65219\tvalidation_1-logloss:0.679592\n",
            "[952]\tvalidation_0-logloss:0.652171\tvalidation_1-logloss:0.67962\n",
            "[953]\tvalidation_0-logloss:0.652156\tvalidation_1-logloss:0.679624\n",
            "[954]\tvalidation_0-logloss:0.652136\tvalidation_1-logloss:0.679641\n",
            "[955]\tvalidation_0-logloss:0.652125\tvalidation_1-logloss:0.679657\n",
            "[956]\tvalidation_0-logloss:0.652107\tvalidation_1-logloss:0.679667\n",
            "[957]\tvalidation_0-logloss:0.652086\tvalidation_1-logloss:0.67968\n",
            "[958]\tvalidation_0-logloss:0.65205\tvalidation_1-logloss:0.679702\n",
            "[959]\tvalidation_0-logloss:0.652025\tvalidation_1-logloss:0.679706\n",
            "[960]\tvalidation_0-logloss:0.652016\tvalidation_1-logloss:0.679711\n",
            "[961]\tvalidation_0-logloss:0.652007\tvalidation_1-logloss:0.679716\n",
            "[962]\tvalidation_0-logloss:0.652004\tvalidation_1-logloss:0.67972\n",
            "[963]\tvalidation_0-logloss:0.652\tvalidation_1-logloss:0.679724\n",
            "[964]\tvalidation_0-logloss:0.651994\tvalidation_1-logloss:0.679728\n",
            "[965]\tvalidation_0-logloss:0.651969\tvalidation_1-logloss:0.679729\n",
            "[966]\tvalidation_0-logloss:0.651931\tvalidation_1-logloss:0.67973\n",
            "[967]\tvalidation_0-logloss:0.651908\tvalidation_1-logloss:0.679739\n",
            "[968]\tvalidation_0-logloss:0.651887\tvalidation_1-logloss:0.679738\n",
            "[969]\tvalidation_0-logloss:0.651866\tvalidation_1-logloss:0.67975\n",
            "[970]\tvalidation_0-logloss:0.651835\tvalidation_1-logloss:0.679749\n",
            "[971]\tvalidation_0-logloss:0.651802\tvalidation_1-logloss:0.679754\n",
            "[972]\tvalidation_0-logloss:0.651765\tvalidation_1-logloss:0.679751\n",
            "[973]\tvalidation_0-logloss:0.651752\tvalidation_1-logloss:0.679776\n",
            "[974]\tvalidation_0-logloss:0.65174\tvalidation_1-logloss:0.679782\n",
            "[975]\tvalidation_0-logloss:0.651715\tvalidation_1-logloss:0.679799\n",
            "[976]\tvalidation_0-logloss:0.651692\tvalidation_1-logloss:0.679813\n",
            "[977]\tvalidation_0-logloss:0.651689\tvalidation_1-logloss:0.67982\n",
            "[978]\tvalidation_0-logloss:0.651667\tvalidation_1-logloss:0.679821\n",
            "[979]\tvalidation_0-logloss:0.651631\tvalidation_1-logloss:0.679813\n",
            "[980]\tvalidation_0-logloss:0.651628\tvalidation_1-logloss:0.679814\n",
            "[981]\tvalidation_0-logloss:0.651611\tvalidation_1-logloss:0.679816\n",
            "[982]\tvalidation_0-logloss:0.651603\tvalidation_1-logloss:0.679829\n",
            "[983]\tvalidation_0-logloss:0.651577\tvalidation_1-logloss:0.679851\n",
            "[984]\tvalidation_0-logloss:0.651565\tvalidation_1-logloss:0.679861\n",
            "[985]\tvalidation_0-logloss:0.651517\tvalidation_1-logloss:0.67988\n",
            "[986]\tvalidation_0-logloss:0.651494\tvalidation_1-logloss:0.679896\n",
            "[987]\tvalidation_0-logloss:0.651479\tvalidation_1-logloss:0.679908\n",
            "[988]\tvalidation_0-logloss:0.651449\tvalidation_1-logloss:0.679931\n",
            "[989]\tvalidation_0-logloss:0.651431\tvalidation_1-logloss:0.679944\n",
            "[990]\tvalidation_0-logloss:0.651403\tvalidation_1-logloss:0.679965\n",
            "[991]\tvalidation_0-logloss:0.651386\tvalidation_1-logloss:0.67998\n",
            "[992]\tvalidation_0-logloss:0.651369\tvalidation_1-logloss:0.679988\n",
            "[993]\tvalidation_0-logloss:0.65134\tvalidation_1-logloss:0.679999\n",
            "[994]\tvalidation_0-logloss:0.651319\tvalidation_1-logloss:0.679998\n",
            "[995]\tvalidation_0-logloss:0.651305\tvalidation_1-logloss:0.679995\n",
            "[996]\tvalidation_0-logloss:0.651295\tvalidation_1-logloss:0.680003\n",
            "[997]\tvalidation_0-logloss:0.651292\tvalidation_1-logloss:0.680006\n",
            "[998]\tvalidation_0-logloss:0.651271\tvalidation_1-logloss:0.68003\n",
            "[999]\tvalidation_0-logloss:0.65126\tvalidation_1-logloss:0.680031\n"
          ]
        },
        {
          "output_type": "execute_result",
          "data": {
            "text/plain": [
              "XGBClassifier(learning_rate=0.95, max_depth=5, n_estimators=1000)"
            ]
          },
          "metadata": {},
          "execution_count": 20
        }
      ]
    },
    {
      "cell_type": "code",
      "source": [
        "#testing its accuracy\n",
        "yhat = model.predict(X_test)\n",
        "score = accuracy_score(y_test, yhat)\n",
        "print('Accuracy: %.3f' % score)\n",
        "yhat_test=clf.predict(X_test)\n",
        "valid_f = f1_score(yhat_test, y_test)\n",
        "print(f\"Train f1 Score: {valid_f}\")"
      ],
      "metadata": {
        "colab": {
          "base_uri": "https://localhost:8080/"
        },
        "id": "xOGG_mILgVNc",
        "outputId": "035e4900-f295-4043-9e0e-c27e07d2b8b2"
      },
      "execution_count": 45,
      "outputs": [
        {
          "output_type": "stream",
          "name": "stdout",
          "text": [
            "Accuracy: 0.557\n",
            "Train f1 Score: 0.27752055502179823\n"
          ]
        }
      ]
    },
    {
      "cell_type": "code",
      "source": [
        "#more metrics on the XGBClassifier with a graphing\n",
        "results = model.evals_result()\n",
        "pyplot.plot(results['validation_0']['logloss'], label='train')\n",
        "pyplot.plot(results['validation_1']['logloss'], label='test')\n",
        "pyplot.legend()\n",
        "pyplot.show()"
      ],
      "metadata": {
        "id": "b-UmJTF1gVWG"
      },
      "execution_count": null,
      "outputs": []
    },
    {
      "cell_type": "code",
      "source": [
        "#more metrics on the XGBClassifier\n",
        "print(classification_report(y_test, yhat))"
      ],
      "metadata": {
        "colab": {
          "base_uri": "https://localhost:8080/"
        },
        "id": "IhgixkJUgVe9",
        "outputId": "b7653c69-4a5d-4f04-9a26-ff70b1246f78"
      },
      "execution_count": 46,
      "outputs": [
        {
          "output_type": "stream",
          "name": "stdout",
          "text": [
            "              precision    recall  f1-score   support\n",
            "\n",
            "           0       0.56      0.61      0.58    465709\n",
            "           1       0.56      0.50      0.53    456134\n",
            "\n",
            "    accuracy                           0.56    921843\n",
            "   macro avg       0.56      0.56      0.56    921843\n",
            "weighted avg       0.56      0.56      0.56    921843\n",
            "\n"
          ]
        }
      ]
    },
    {
      "cell_type": "code",
      "source": [
        "#saving model\n",
        "import joblib\n",
        "import pickle\n",
        "\n",
        "filename = \"Completed_model.joblib\"\n",
        "joblib.dump(model, filename)\n"
      ],
      "metadata": {
        "colab": {
          "base_uri": "https://localhost:8080/"
        },
        "id": "Lq4ZZwJxgXBX",
        "outputId": "1ae6089c-7d0a-47b2-923c-271e6593dfab"
      },
      "execution_count": 47,
      "outputs": [
        {
          "output_type": "execute_result",
          "data": {
            "text/plain": [
              "['Completed_model.joblib']"
            ]
          },
          "metadata": {},
          "execution_count": 47
        }
      ]
    },
    {
      "cell_type": "code",
      "source": [
        "#test model\n",
        "loaded_model = joblib.load(filename)\n",
        "\n",
        "test_y = test.pred\n",
        "test_y = le.fit_transform(test_y)\n",
        "test_X = test[new_features]\n",
        "\n",
        "result = loaded_model.score(test_X, test_y)\n",
        "y_hat_test=clf.predict(test_X)\n",
        "valid_f0 = f1_score(y_hat_test, test_y)\n",
        "\n",
        "print(f\"Train f1 Score: {valid_f0}\")\n",
        "print(\"accuracy score : \",result)"
      ],
      "metadata": {
        "colab": {
          "base_uri": "https://localhost:8080/"
        },
        "id": "Mh4n4IRRgXI9",
        "outputId": "4d5487ad-2396-4486-8df2-cd12d1ceff04"
      },
      "execution_count": 48,
      "outputs": [
        {
          "output_type": "stream",
          "name": "stdout",
          "text": [
            "Train f1 Score: 0.6110304797899175\n",
            "accuracy score :  0.5234660829839084\n"
          ]
        }
      ]
    },
    {
      "cell_type": "code",
      "source": [
        "#validating model\n",
        "loaded_model = joblib.load(filename)\n",
        "\n",
        "valid_y = validation.pred\n",
        "valid_y = le.fit_transform(valid_y)\n",
        "valid_X = validation[new_features]\n",
        "\n",
        "result = loaded_model.score(valid_X, valid_y)\n",
        "y_hat_valid=clf.predict(valid_X)\n",
        "valid_f1 = f1_score(valid_y, y_hat_valid)\n",
        "\n",
        "print(f\"Train f1 Score: {valid_f1}\")\n",
        "print(\"Accuracy score : \",result)"
      ],
      "metadata": {
        "colab": {
          "base_uri": "https://localhost:8080/"
        },
        "id": "pkU_GXKhiVUt",
        "outputId": "043eef99-1cd5-43c7-b379-ab23600e5c53"
      },
      "execution_count": 49,
      "outputs": [
        {
          "output_type": "stream",
          "name": "stdout",
          "text": [
            "Train f1 Score: 0.6663083712278484\n",
            "Accuracy score :  0.49055791341680216\n"
          ]
        }
      ]
    },
    {
      "cell_type": "markdown",
      "source": [
        "# CONCLUSION\n",
        "\n",
        "The model is able to predict 58% on train, 61% on test and 66% on validation using f1 score.\n",
        "\n",
        "The major challenge I had when I used the semi supervised learning model approach was that I would run out of my 16GB memory therefore I could not proceed with that model instead this approach uses a supervised model. There is room for people with a more powerful hardware to explore the semi supervised approach which I believe will achieve a greater accuracy and precision\n"
      ],
      "metadata": {
        "id": "9mTlJ2PRuRji"
      }
    },
    {
      "cell_type": "code",
      "source": [],
      "metadata": {
        "id": "U2bqdIs_vIYM"
      },
      "execution_count": null,
      "outputs": []
    }
  ],
  "metadata": {
    "colab": {
      "provenance": []
    },
    "kernelspec": {
      "display_name": "Python 3",
      "name": "python3"
    },
    "language_info": {
      "name": "python"
    }
  },
  "nbformat": 4,
  "nbformat_minor": 0
}